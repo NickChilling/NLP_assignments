{
 "nbformat": 4,
 "nbformat_minor": 0,
 "metadata": {
  "colab": {
   "version": "0.3.2",
   "views": {},
   "default_view": {},
   "name": "3_regularization.ipynb",
   "provenance": [],
   "toc_visible": true
  },
  "kernelspec": {
   "name": "python3",
   "language": "python",
   "display_name": "Python 3"
  },
  "pycharm": {
   "stem_cell": {
    "cell_type": "raw",
    "source": [],
    "metadata": {
     "collapsed": false
    }
   }
  }
 },
 "cells": [
  {
   "cell_type": "markdown",
   "metadata": {
    "id": "kR-4eNdK6lYS",
    "colab_type": "text"
   },
   "source": [
    "Deep Learning\n",
    "=============\n",
    "\n",
    "Assignment 3\n",
    "------------\n",
    "\n",
    "Previously in `2_fullyconnected.ipynb`, you trained a logistic regression and a neural network model.\n",
    "\n",
    "The goal of this assignment is to explore regularization techniques."
   ]
  },
  {
   "cell_type": "code",
   "metadata": {
    "id": "JLpLa8Jt7Vu4",
    "colab_type": "code",
    "colab": {
     "autoexec": {
      "startup": false,
      "wait_interval": 0
     }
    },
    "cellView": "both",
    "pycharm": {
     "is_executing": false
    }
   },
   "source": [
    "# These are all the modules we'll be using later. Make sure you can import them\n",
    "# before proceeding further.\n",
    "from __future__ import print_function\n",
    "import numpy as np\n",
    "import tensorflow as tf\n",
    "from six.moves import cPickle as pickle"
   ],
   "outputs": [],
   "execution_count": 2
  },
  {
   "cell_type": "markdown",
   "metadata": {
    "id": "1HrCK6e17WzV",
    "colab_type": "text"
   },
   "source": [
    "First reload the data we generated in `1_notmnist.ipynb`."
   ]
  },
  {
   "cell_type": "code",
   "metadata": {
    "id": "y3-cj1bpmuxc",
    "colab_type": "code",
    "colab": {
     "autoexec": {
      "startup": false,
      "wait_interval": 0
     },
     "output_extras": [
      {
       "item_id": 1
      }
     ]
    },
    "cellView": "both",
    "executionInfo": {
     "elapsed": 11777,
     "status": "ok",
     "timestamp": 1449849322348,
     "user": {
      "color": "",
      "displayName": "",
      "isAnonymous": false,
      "isMe": true,
      "permissionId": "",
      "photoUrl": "",
      "sessionId": "0",
      "userId": ""
     },
     "user_tz": 480
    },
    "outputId": "e03576f1-ebbe-4838-c388-f1777bcc9873",
    "pycharm": {
     "is_executing": false
    }
   },
   "source": [
    "pickle_file = \"nlp/NLP_assignments/assignment-09/notMNIST.pickle\"\n",
    "\n",
    "with open(pickle_file, 'rb') as f:\n",
    "  save = pickle.load(f)\n",
    "  train_dataset = save['train_dataset']\n",
    "  train_labels = save['train_labels']\n",
    "  valid_dataset = save['valid_dataset']\n",
    "  valid_labels = save['valid_labels']\n",
    "  test_dataset = save['test_dataset']\n",
    "  test_labels = save['test_labels']\n",
    "  del save  # hint to help gc free up memory\n",
    "  print('Training set', train_dataset.shape, train_labels.shape)\n",
    "  print('Validation set', valid_dataset.shape, valid_labels.shape)\n",
    "  print('Test set', test_dataset.shape, test_labels.shape)"
   ],
   "outputs": [
    {
     "name": "stdout",
     "text": [
      "Training set (200000, 28, 28) (200000,)\nValidation set (10000, 28, 28) (10000,)\nTest set (10000, 28, 28) (10000,)\n"
     ],
     "output_type": "stream"
    }
   ],
   "execution_count": 4
  },
  {
   "cell_type": "markdown",
   "metadata": {
    "id": "L7aHrm6nGDMB",
    "colab_type": "text"
   },
   "source": [
    "Reformat into a shape that's more adapted to the models we're going to train:\n",
    "- data as a flat matrix,\n",
    "- labels as float 1-hot encodings."
   ]
  },
  {
   "cell_type": "code",
   "metadata": {
    "id": "IRSyYiIIGIzS",
    "colab_type": "code",
    "colab": {
     "autoexec": {
      "startup": false,
      "wait_interval": 0
     },
     "output_extras": [
      {
       "item_id": 1
      }
     ]
    },
    "cellView": "both",
    "executionInfo": {
     "elapsed": 11728,
     "status": "ok",
     "timestamp": 1449849322356,
     "user": {
      "color": "",
      "displayName": "",
      "isAnonymous": false,
      "isMe": true,
      "permissionId": "",
      "photoUrl": "",
      "sessionId": "0",
      "userId": ""
     },
     "user_tz": 480
    },
    "outputId": "3f8996ee-3574-4f44-c953-5c8a04636582",
    "pycharm": {
     "is_executing": false
    }
   },
   "source": [
    "image_size = 28\n",
    "num_labels = 10\n",
    "\n",
    "def reformat(dataset, labels):\n",
    "  dataset = dataset.reshape((-1, image_size * image_size)).astype(np.float32)\n",
    "  # Map 1 to [0.0, 1.0, 0.0 ...], 2 to [0.0, 0.0, 1.0 ...]\n",
    "  labels = (np.arange(num_labels) == labels[:,None]).astype(np.float32)\n",
    "  return dataset, labels\n",
    "train_dataset, train_labels = reformat(train_dataset, train_labels)\n",
    "valid_dataset, valid_labels = reformat(valid_dataset, valid_labels)\n",
    "test_dataset, test_labels = reformat(test_dataset, test_labels)\n",
    "print('Training set', train_dataset.shape, train_labels.shape)\n",
    "print('Validation set', valid_dataset.shape, valid_labels.shape)\n",
    "print('Test set', test_dataset.shape, test_labels.shape)"
   ],
   "outputs": [
    {
     "name": "stdout",
     "text": [
      "Training set (200000, 784) (200000, 10)\nValidation set (10000, 784) (10000, 10)\nTest set (10000, 784) (10000, 10)\n"
     ],
     "output_type": "stream"
    }
   ],
   "execution_count": 5
  },
  {
   "cell_type": "code",
   "metadata": {
    "id": "RajPLaL_ZW6w",
    "colab_type": "code",
    "colab": {
     "autoexec": {
      "startup": false,
      "wait_interval": 0
     }
    },
    "cellView": "both",
    "pycharm": {
     "is_executing": false
    }
   },
   "source": [
    "def accuracy(predictions, labels):\n",
    "  return (100.0 * np.sum(np.argmax(predictions, 1) == np.argmax(labels, 1))\n",
    "          / predictions.shape[0])"
   ],
   "outputs": [],
   "execution_count": 6
  },
  {
   "cell_type": "markdown",
   "metadata": {
    "id": "sgLbUAQ1CW-1",
    "colab_type": "text"
   },
   "source": [
    "---\n",
    "Problem 1\n",
    "---------\n",
    "\n",
    "Introduce and tune L2 regularization for both logistic and neural network models. Remember that L2 amounts to adding a penalty on the norm of the weights to the loss. In TensorFlow, you can compute the L2 loss for a tensor `t` using `nn.l2_loss(t)`. The right amount of regularization should improve your validation / test accuracy.\n",
    "\n",
    "---"
   ]
  },
  {
   "cell_type": "code",
   "execution_count": 9,
   "outputs": [
    {
     "name": "stdout",
     "text": [
      "WARNING:tensorflow:From /home/chihao/miniconda3/lib/python3.7/site-packages/tensorflow/python/util/tf_should_use.py:193: initialize_all_variables (from tensorflow.python.ops.variables) is deprecated and will be removed after 2017-03-02.\nInstructions for updating:\nUse `tf.global_variables_initializer` instead.\n",
      "Initialized\n",
      "Loss at step 0: 320.9836120605469\nTraining accuracy: 7.5\n",
      "Validation accuracy: 11.3\n",
      "Loss at step 100: 0.9461405873298645\nTraining accuracy: 85.9\nValidation accuracy: 79.4\n",
      "Loss at step 200: 0.9333667755126953\nTraining accuracy: 85.9\nValidation accuracy: 79.7\n",
      "Loss at step 300: 0.9324518442153931\nTraining accuracy: 85.8\nValidation accuracy: 79.7\n",
      "Loss at step 400: 0.9321560859680176\nTraining accuracy: 85.7\nValidation accuracy: 79.7\n",
      "Loss at step 500: 0.9320464134216309\nTraining accuracy: 85.7\nValidation accuracy: 79.7\n",
      "Loss at step 600: 0.9320027232170105\nTraining accuracy: 85.8\nValidation accuracy: 79.7\n",
      "Loss at step 700: 0.9319848418235779\nTraining accuracy: 85.8\nValidation accuracy: 79.7\n",
      "Loss at step 800: 0.9319771528244019\nTraining accuracy: 85.9\nValidation accuracy: 79.7\n",
      "Test accuracy: 86.5\n"
     ],
     "output_type": "stream"
    }
   ],
   "source": [
    "train_subset = 1000\n",
    "graph = tf.Graph()\n",
    "with graph.as_default():\n",
    "    tf_train_dataset = tf.constant(train_dataset[:train_subset, :])\n",
    "    tf_train_labels = tf.constant(train_labels[:train_subset])\n",
    "    tf_valid_dataset = tf.constant(valid_dataset)\n",
    "    tf_test_dataset = tf.constant(test_dataset)\n",
    "    \n",
    "    weights = tf.Variable(tf.truncated_normal([image_size * image_size, num_labels]))\n",
    "    biases = tf.Variable(tf.zeros([num_labels]))\n",
    "  \n",
    "    logits = tf.matmul(tf_train_dataset, weights) + biases \n",
    "    loss = tf.reduce_mean(tf.nn.softmax_cross_entropy_with_logits(logits=logits, labels= tf_train_labels) )\n",
    "    regularizer = tf.nn.l2_loss(weights)\n",
    "    loss = tf.reduce_mean(loss + 0.1 * regularizer)\n",
    "    \n",
    "    optimizer = tf.train.GradientDescentOptimizer(0.5).minimize(loss)\n",
    "  \n",
    "    # Predictions for the training, validation, and test data.\n",
    "    train_prediction = tf.nn.softmax(logits)\n",
    "    valid_prediction = tf.nn.softmax( tf.matmul(tf_valid_dataset, weights) + biases )\n",
    "    test_prediction = tf.nn.softmax(tf.matmul(tf_test_dataset, weights) + biases)\n",
    "\n",
    "num_steps = 801\n",
    "\n",
    "def accuracy(predictions, labels):\n",
    "    return (100.0 * np.sum(np.argmax(predictions, 1) == np.argmax(labels, 1))\n",
    "            / predictions.shape[0])\n",
    "\n",
    "with tf.Session(graph=graph) as session:\n",
    "\n",
    "    tf.initialize_all_variables().run()\n",
    "    print('Initialized')\n",
    "    for step in range(num_steps):\n",
    "\n",
    "        _, l, predictions = session.run([optimizer, loss, train_prediction])\n",
    "        if (step % 100 == 0):\n",
    "            print('Loss at step {}: {}'.format(step, l))\n",
    "            print('Training accuracy: {:.1f}'.format(accuracy(predictions, \n",
    "                                                         train_labels[:train_subset, :])))\n",
    "            print('Validation accuracy: {:.1f}'.format(accuracy(valid_prediction.eval(), \n",
    "                                                           valid_labels)))\n",
    "    print('Test accuracy: {:.1f}'.format(accuracy(test_prediction.eval(), test_labels)))"
   ],
   "metadata": {
    "collapsed": false,
    "pycharm": {
     "name": "#%%\n",
     "is_executing": false
    }
   }
  },
  {
   "cell_type": "markdown",
   "metadata": {
    "id": "na8xX2yHZzNF",
    "colab_type": "text"
   },
   "source": [
    "---\n",
    "Problem 2\n",
    "---------\n",
    "Let's demonstrate an extreme case of overfitting. Restrict your training data to just a few batches. What happens?\n",
    "\n",
    "---"
   ]
  },
  {
   "cell_type": "code",
   "execution_count": null,
   "outputs": [],
   "source": [
    "num_steps = 2000\n",
    "batch_size = 100\n",
    "train_dataset_2 = train_dataset[:500, :]\n",
    "train_labels_2 = train_labels[:500]\n",
    "\n",
    "with tf.Session(graph=graph) as session:\n",
    "    tf.initialize_all_variables().run()\n",
    "    print(\"Initialized\")\n",
    "    for step in range(num_steps):\n",
    "        \n",
    "        offset = (step * batch_size) % (train_labels_2.shape[0] - batch_size)\n",
    "        batch_data = train_dataset_2[offset:(offset + batch_size), :]\n",
    "        batch_labels = train_labels_2[offset:(offset + batch_size), :]\n",
    "\n",
    "        feed_dict = {tf_train_dataset : batch_data, tf_train_labels : batch_labels}\n",
    "        _, l, predictions = session.run([optimizer, loss, train_prediction], feed_dict=feed_dict)\n",
    "        if (step % 500 == 0):\n",
    "            print(\"Minibatch loss at step {}: {}\".format(step, l))\n",
    "            print(\"Minibatch accuracy: {:.1f}\".format(accuracy(predictions, batch_labels)))\n",
    "            print(\"Validation accuracy: {:.1f}\".format(accuracy(valid_prediction.eval(), valid_labels)))\n",
    "    print(\"Test accuracy: {:.1f}\".format(accuracy(test_prediction.eval(), test_labels)))"
   ],
   "metadata": {
    "collapsed": false,
    "pycharm": {
     "name": "#%%\n"
    }
   }
  },
  {
   "cell_type": "markdown",
   "metadata": {
    "id": "ww3SCBUdlkRc",
    "colab_type": "text"
   },
   "source": [
    "---\n",
    "Problem 3\n",
    "---------\n",
    "Introduce Dropout on the hidden layer of the neural network. Remember: Dropout should only be introduced during training, not evaluation, otherwise your evaluation results would be stochastic as well. TensorFlow provides `nn.dropout()` for that, but you have to make sure it's only inserted during training.\n",
    "\n",
    "What happens to our extreme overfitting case?\n",
    "\n",
    "---"
   ]
  },
  {
   "cell_type": "code",
   "execution_count": 11,
   "outputs": [
    {
     "name": "stdout",
     "text": [
      "Initialized\n",
      "Minibatch loss at step 0: 3680.13134765625\nMinibatch accuracy: 10.2\n",
      "Validation accuracy: 34.4\n",
      "Minibatch loss at step 500: 21.399185180664062\nMinibatch accuracy: 85.2\n",
      "Validation accuracy: 84.4\n",
      "Minibatch loss at step 1000: 0.9322222471237183\nMinibatch accuracy: 82.8\n",
      "Validation accuracy: 83.8\n",
      "Minibatch loss at step 1500: 0.8148385882377625\nMinibatch accuracy: 79.7\n",
      "Validation accuracy: 83.7\n",
      "Minibatch loss at step 2000: 0.8173642754554749\nMinibatch accuracy: 84.4\n",
      "Validation accuracy: 83.7\n",
      "Minibatch loss at step 2500: 0.7654445767402649\nMinibatch accuracy: 84.4\n",
      "Validation accuracy: 84.1\n",
      "Minibatch loss at step 3000: 0.6596835255622864\nMinibatch accuracy: 85.9\n",
      "Validation accuracy: 83.8\n",
      "Test accuracy: 90.1\n"
     ],
     "output_type": "stream"
    }
   ],
   "source": [
    "\n",
    "num_nodes= 1024\n",
    "batch_size = 128\n",
    "beta = 0.01\n",
    "\n",
    "graph = tf.Graph()\n",
    "with graph.as_default():\n",
    "\n",
    "    tf_train_dataset = tf.placeholder(tf.float32, shape=(batch_size, image_size * image_size))\n",
    "    tf_train_labels = tf.placeholder(tf.float32, shape=(batch_size, num_labels))\n",
    "    tf_valid_dataset = tf.constant(valid_dataset)\n",
    "    tf_test_dataset = tf.constant(test_dataset)\n",
    "    weights_1 = tf.Variable(tf.truncated_normal([image_size * image_size, num_nodes]))\n",
    "    biases_1 = tf.Variable(tf.zeros([num_nodes]))\n",
    "    weights_2 = tf.Variable(tf.truncated_normal([num_nodes, num_labels]))\n",
    "    biases_2 = tf.Variable(tf.zeros([num_labels]))\n",
    "    \n",
    "    logits_1 = tf.matmul(tf_train_dataset, weights_1) + biases_1\n",
    "    relu_layer= tf.nn.relu(logits_1)\n",
    "    keep_prob = tf.placeholder(\"float\")\n",
    "    relu_layer_dropout = tf.nn.dropout(relu_layer, keep_prob)\n",
    "    \n",
    "    logits_2 = tf.matmul(relu_layer_dropout, weights_2) + biases_2\n",
    "    loss = tf.reduce_mean(tf.nn.softmax_cross_entropy_with_logits(logits=logits_2, labels = tf_train_labels))\n",
    "    regularizers = tf.nn.l2_loss(weights_1) + tf.nn.l2_loss(weights_2)\n",
    "    loss = tf.reduce_mean(loss + beta * regularizers)\n",
    "\n",
    "    optimizer = tf.train.GradientDescentOptimizer(0.5).minimize(loss)\n",
    "\n",
    "    train_prediction = tf.nn.softmax(logits_2)\n",
    "\n",
    "    logits_1 = tf.matmul(tf_valid_dataset, weights_1) + biases_1\n",
    "    relu_layer= tf.nn.relu(logits_1)\n",
    "    logits_2 = tf.matmul(relu_layer, weights_2) + biases_2\n",
    "    \n",
    "    valid_prediction = tf.nn.softmax(logits_2)\n",
    "    \n",
    "    logits_1 = tf.matmul(tf_test_dataset, weights_1) + biases_1\n",
    "    relu_layer= tf.nn.relu(logits_1)\n",
    "    logits_2 = tf.matmul(relu_layer, weights_2) + biases_2\n",
    "    \n",
    "    test_prediction =  tf.nn.softmax(logits_2)\n",
    "\n",
    "num_steps = 3001\n",
    "\n",
    "with tf.Session(graph=graph) as session:\n",
    "    tf.initialize_all_variables().run()\n",
    "    print(\"Initialized\")\n",
    "    for step in range(num_steps):\n",
    "        offset = (step * batch_size) % (train_labels.shape[0] - batch_size)\n",
    "        batch_data = train_dataset[offset:(offset + batch_size), :]\n",
    "        batch_labels = train_labels[offset:(offset + batch_size), :]\n",
    "        feed_dict = {tf_train_dataset : batch_data, tf_train_labels : batch_labels, keep_prob : 0.5}\n",
    "        _, l, predictions = session.run([optimizer, loss, train_prediction], feed_dict=feed_dict)\n",
    "        if (step % 500 == 0):\n",
    "            print(\"Minibatch loss at step {}: {}\".format(step, l))\n",
    "            print(\"Minibatch accuracy: {:.1f}\".format(accuracy(predictions, batch_labels)))\n",
    "            print(\"Validation accuracy: {:.1f}\".format(accuracy(valid_prediction.eval(), valid_labels)))\n",
    "    print(\"Test accuracy: {:.1f}\".format(accuracy(test_prediction.eval(), test_labels)))"
   ],
   "metadata": {
    "collapsed": false,
    "pycharm": {
     "name": "#%%\n",
     "is_executing": false
    }
   }
  },
  {
   "cell_type": "markdown",
   "metadata": {
    "id": "-b1hTz3VWZjw",
    "colab_type": "text"
   },
   "source": [
    "---\n",
    "Problem 4\n",
    "---------\n",
    "\n",
    "Try to get the best performance you can using a multi-layer model! The best reported test accuracy using a deep network is [97.1%](http://yaroslavvb.blogspot.com/2011/09/notmnist-dataset.html?showComment=1391023266211#c8758720086795711595).\n",
    "\n",
    "One avenue you can explore is to add multiple layers.\n",
    "\n",
    "Another one is to use learning rate decay:\n",
    "\n",
    "    global_step = tf.Variable(0)  # count the number of steps taken.\n",
    "    learning_rate = tf.train.exponential_decay(0.5, global_step, ...)\n",
    "    optimizer = tf.train.GradientDescentOptimizer(learning_rate).minimize(loss, global_step=global_step)\n",
    " \n",
    " ---"
   ]
  },
  {
   "cell_type": "code",
   "execution_count": null,
   "outputs": [
    {
     "name": "stdout",
     "text": [
      "Initialized\n",
      "Minibatch loss at step 0: 4.70703125\nMinibatch accuracy: 10.9\n",
      "Validation accuracy: 10.2\n",
      "Minibatch loss at step 500: 1.7624883651733398\nMinibatch accuracy: 80.5\n",
      "Validation accuracy: 83.0\n",
      "Minibatch loss at step 1000: 1.4217671155929565\nMinibatch accuracy: 79.7\n",
      "Validation accuracy: 84.5\n",
      "Minibatch loss at step 1500: 1.1959080696105957\nMinibatch accuracy: 82.8\n",
      "Validation accuracy: 85.3\n",
      "Minibatch loss at step 2000: 1.0196185111999512\nMinibatch accuracy: 82.8\n",
      "Validation accuracy: 85.7\n",
      "Minibatch loss at step 2500: 0.9241851568222046\nMinibatch accuracy: 82.8\n",
      "Validation accuracy: 86.2\n",
      "Minibatch loss at step 3000: 0.7656141519546509\nMinibatch accuracy: 86.7\n",
      "Validation accuracy: 85.9\n",
      "Minibatch loss at step 3500: 0.8566179275512695\nMinibatch accuracy: 82.0\n",
      "Validation accuracy: 85.8\n",
      "Minibatch loss at step 4000: 0.9815979599952698\nMinibatch accuracy: 78.1\n",
      "Validation accuracy: 85.6\n",
      "Minibatch loss at step 4500: 0.9427432417869568\nMinibatch accuracy: 84.4\n",
      "Validation accuracy: 86.6\n",
      "Minibatch loss at step 5000: 0.7193113565444946\nMinibatch accuracy: 85.2\n",
      "Validation accuracy: 86.7\n",
      "Minibatch loss at step 5500: 0.8427793979644775\nMinibatch accuracy: 82.0\n",
      "Validation accuracy: 86.5\n",
      "Minibatch loss at step 6000: 0.6536674499511719\nMinibatch accuracy: 89.1\n",
      "Validation accuracy: 86.5\n",
      "Minibatch loss at step 6500: 0.8861063718795776\nMinibatch accuracy: 79.7\n",
      "Validation accuracy: 86.3\n",
      "Minibatch loss at step 7000: 0.7330745458602905\nMinibatch accuracy: 85.2\n",
      "Validation accuracy: 86.7\n",
      "Minibatch loss at step 7500: 0.5851755142211914\nMinibatch accuracy: 91.4\n",
      "Validation accuracy: 86.7\n",
      "Minibatch loss at step 8000: 0.7056564688682556\nMinibatch accuracy: 87.5\n",
      "Validation accuracy: 87.0\n",
      "Minibatch loss at step 8500: 0.8233298659324646\nMinibatch accuracy: 81.2\n",
      "Validation accuracy: 86.7\n",
      "Minibatch loss at step 9000: 0.7527291774749756\nMinibatch accuracy: 85.9\n",
      "Validation accuracy: 86.4\n",
      "Minibatch loss at step 9500: 0.7876779437065125\nMinibatch accuracy: 85.2\n",
      "Validation accuracy: 86.6\n",
      "Minibatch loss at step 10000: 0.914042592048645\nMinibatch accuracy: 85.2\n",
      "Validation accuracy: 86.9\n",
      "Minibatch loss at step 10500: 0.7787217497825623\nMinibatch accuracy: 85.2\n",
      "Validation accuracy: 87.4\n",
      "Minibatch loss at step 11000: 0.835686206817627\nMinibatch accuracy: 85.9\n",
      "Validation accuracy: 87.0\n",
      "Minibatch loss at step 11500: 0.9597794413566589\nMinibatch accuracy: 78.1\n",
      "Validation accuracy: 86.6\n",
      "Minibatch loss at step 12000: 0.714706301689148\nMinibatch accuracy: 86.7\n",
      "Validation accuracy: 86.3\n",
      "Minibatch loss at step 12500: 0.7731869220733643\nMinibatch accuracy: 86.7\n",
      "Validation accuracy: 86.9\n",
      "Minibatch loss at step 13000: 0.7788269519805908\nMinibatch accuracy: 86.7\n",
      "Validation accuracy: 86.6\n",
      "Minibatch loss at step 13500: 0.8340547680854797\nMinibatch accuracy: 83.6\n",
      "Validation accuracy: 86.3\n",
      "Minibatch loss at step 14000: 0.7187138199806213\nMinibatch accuracy: 89.8\n",
      "Validation accuracy: 87.1\n",
      "Minibatch loss at step 14500: 0.8324748277664185\nMinibatch accuracy: 81.2\n",
      "Validation accuracy: 86.7\n"
     ],
     "output_type": "stream"
    }
   ],
   "source": [
    "\n",
    "import math as math\n",
    "batch_size = 128\n",
    "beta = 0.001\n",
    "\n",
    "hidden_nodes_1 = 1024\n",
    "hidden_nodes_2 = int(hidden_nodes_1 * 0.5)\n",
    "hidden_nodes_3 = int(hidden_nodes_1 * np.power(0.5, 2))\n",
    "hidden_nodes_4 = int(hidden_nodes_1 * np.power(0.5, 3))\n",
    "hidden_nodes_5 = int(hidden_nodes_1 * np.power(0.5, 4))\n",
    "\n",
    "graph = tf.Graph()\n",
    "with graph.as_default():\n",
    "\n",
    "    '''Input Data'''\n",
    "    # For the training data, we use a placeholder that will be fed\n",
    "    # at run time with a training minibatch.\n",
    "    tf_train_dataset = tf.placeholder(tf.float32, shape=(batch_size, image_size * image_size))\n",
    "    tf_train_labels = tf.placeholder(tf.float32, shape=(batch_size, num_labels))\n",
    "    tf_valid_dataset = tf.constant(valid_dataset)\n",
    "    tf_test_dataset = tf.constant(test_dataset)\n",
    "\n",
    "    '''Variables'''\n",
    "    # Hidden RELU layer 1\n",
    "    weights_1 = tf.Variable(tf.truncated_normal([image_size * image_size, hidden_nodes_1], stddev=math.sqrt(2.0/(image_size*image_size))))\n",
    "    biases_1 = tf.Variable(tf.zeros([hidden_nodes_1]))\n",
    "\n",
    "    # Hidden RELU layer 2\n",
    "    weights_2 = tf.Variable(tf.truncated_normal([hidden_nodes_1, hidden_nodes_2], stddev=math.sqrt(2.0/hidden_nodes_1)))\n",
    "    biases_2 = tf.Variable(tf.zeros([hidden_nodes_2]))\n",
    "    \n",
    "    # Hidden RELU layer 3\n",
    "    weights_3 = tf.Variable(tf.truncated_normal([hidden_nodes_2, hidden_nodes_3], stddev=math.sqrt(2.0/hidden_nodes_2)))\n",
    "    biases_3 = tf.Variable(tf.zeros([hidden_nodes_3]))\n",
    "    \n",
    "    # Hidden RELU layer 4\n",
    "    weights_4 = tf.Variable(tf.truncated_normal([hidden_nodes_3, hidden_nodes_4], stddev=math.sqrt(2.0/hidden_nodes_3)))\n",
    "    biases_4 = tf.Variable(tf.zeros([hidden_nodes_4]))\n",
    "    \n",
    "    # Hidden RELU layer 5\n",
    "    weights_5 = tf.Variable(tf.truncated_normal([hidden_nodes_4, hidden_nodes_5], stddev=math.sqrt(2.0/hidden_nodes_4)))\n",
    "    biases_5 = tf.Variable(tf.zeros([hidden_nodes_5]))\n",
    "    \n",
    "    # Output layer\n",
    "    weights_6 = tf.Variable(tf.truncated_normal([hidden_nodes_5, num_labels], stddev=math.sqrt(2.0/hidden_nodes_5)))\n",
    "    biases_6 = tf.Variable(tf.zeros([num_labels]))\n",
    "    \n",
    "    '''Training computation'''\n",
    "    \n",
    "    # Hidden RELU layer 1\n",
    "    logits_1 = tf.matmul(tf_train_dataset, weights_1) + biases_1\n",
    "    hidden_layer_1 = tf.nn.relu(logits_1)\n",
    "    # Dropout on hidden layer: RELU layer\n",
    "    keep_prob = tf.placeholder(\"float\")\n",
    "    hidden_layer_1_dropout = tf.nn.dropout(hidden_layer_1, keep_prob)\n",
    "    \n",
    "    \n",
    "    # Hidden RELU layer 2\n",
    "    logits_2 = tf.matmul(hidden_layer_1_dropout, weights_2) + biases_2\n",
    "    hidden_layer_2 = tf.nn.relu(logits_2)\n",
    "    # Dropout on hidden layer: RELU layer\n",
    "    hidden_layer_2_dropout = tf.nn.dropout(hidden_layer_2, keep_prob)\n",
    "    \n",
    "    # Hidden RELU layer 3\n",
    "    logits_3 = tf.matmul(hidden_layer_2_dropout, weights_3) + biases_3\n",
    "    hidden_layer_3 = tf.nn.relu(logits_3)\n",
    "    # Dropout on hidden layer: RELU layer\n",
    "    hidden_layer_3_dropout = tf.nn.dropout(hidden_layer_3, keep_prob)\n",
    "    \n",
    "    # Hidden RELU layer 4\n",
    "    logits_4 = tf.matmul(hidden_layer_3_dropout, weights_4) + biases_4\n",
    "    hidden_layer_4 = tf.nn.relu(logits_4)\n",
    "    # Dropout on hidden layer: RELU layer\n",
    "\n",
    "    hidden_layer_4_dropout = tf.nn.dropout(hidden_layer_4, keep_prob)\n",
    "    \n",
    "    # Hidden RELU layer 5\n",
    "    logits_5 = tf.matmul(hidden_layer_4_dropout, weights_5) + biases_5\n",
    "    hidden_layer_5 = tf.nn.relu(logits_5)\n",
    "    # Dropout on hidden layer: RELU layer\n",
    "    hidden_layer_5_dropout = tf.nn.dropout(hidden_layer_5, keep_prob)\n",
    "    \n",
    "    # Output layer\n",
    "    logits_6 = tf.matmul(hidden_layer_5_dropout, weights_6) + biases_6 \n",
    "    \n",
    "    # Normal loss function\n",
    "    loss = tf.reduce_mean(tf.nn.softmax_cross_entropy_with_logits(logits= logits_6,labels=tf_train_labels))\n",
    "    # Loss function with L2 Regularization with decaying learning rate beta=0.5\n",
    "    regularizers = tf.nn.l2_loss(weights_1) + tf.nn.l2_loss(weights_2) + \\\n",
    "                   tf.nn.l2_loss(weights_3) + tf.nn.l2_loss(weights_4) + \\\n",
    "                   tf.nn.l2_loss(weights_5) + tf.nn.l2_loss(weights_6)\n",
    "    loss = tf.reduce_mean(loss + beta * regularizers)\n",
    "\n",
    "    '''Optimizer'''\n",
    "    # Decaying learning rate\n",
    "    global_step = tf.Variable(0)  # count the number of steps taken.\n",
    "    start_learning_rate = 0.5\n",
    "    learning_rate = tf.train.exponential_decay(start_learning_rate, global_step, 100000, 0.96, staircase=True)\n",
    "    optimizer = tf.train.GradientDescentOptimizer(learning_rate).minimize(loss, global_step=global_step)\n",
    "    \n",
    "    # Predictions for the training\n",
    "    train_prediction = tf.nn.softmax(logits_6)\n",
    "    \n",
    "    # Predictions for validation \n",
    "    valid_logits_1 = tf.matmul(tf_valid_dataset, weights_1) + biases_1\n",
    "    valid_relu_1 = tf.nn.relu(valid_logits_1)\n",
    "    \n",
    "    valid_logits_2 = tf.matmul(valid_relu_1, weights_2) + biases_2\n",
    "    valid_relu_2 = tf.nn.relu(valid_logits_2)\n",
    "    \n",
    "    valid_logits_3 = tf.matmul(valid_relu_2, weights_3) + biases_3\n",
    "    valid_relu_3 = tf.nn.relu(valid_logits_3)\n",
    "    \n",
    "    valid_logits_4 = tf.matmul(valid_relu_3, weights_4) + biases_4\n",
    "    valid_relu_4 = tf.nn.relu(valid_logits_4)\n",
    "    \n",
    "    valid_logits_5 = tf.matmul(valid_relu_4, weights_5) + biases_5\n",
    "    valid_relu_5 = tf.nn.relu(valid_logits_5)\n",
    "    \n",
    "    valid_logits_6 = tf.matmul(valid_relu_5, weights_6) + biases_6\n",
    "    \n",
    "    valid_prediction = tf.nn.softmax(valid_logits_6)\n",
    "    \n",
    "    # Predictions for test\n",
    "    test_logits_1 = tf.matmul(tf_test_dataset, weights_1) + biases_1\n",
    "    test_relu_1 = tf.nn.relu(test_logits_1)\n",
    "    \n",
    "    test_logits_2 = tf.matmul(test_relu_1, weights_2) + biases_2\n",
    "    test_relu_2 = tf.nn.relu(test_logits_2)\n",
    "    \n",
    "    test_logits_3 = tf.matmul(test_relu_2, weights_3) + biases_3\n",
    "    test_relu_3 = tf.nn.relu(test_logits_3)\n",
    "    \n",
    "    test_logits_4 = tf.matmul(test_relu_3, weights_4) + biases_4\n",
    "    test_relu_4 = tf.nn.relu(test_logits_4)\n",
    "    \n",
    "    test_logits_5 = tf.matmul(test_relu_4, weights_5) + biases_5\n",
    "    test_relu_5 = tf.nn.relu(test_logits_5)\n",
    "    \n",
    "    test_logits_6 = tf.matmul(test_relu_5, weights_6) + biases_6\n",
    "    \n",
    "    test_prediction = tf.nn.softmax(test_logits_6)\n",
    "num_steps = 15000\n",
    "\n",
    "with tf.Session(graph=graph) as session:\n",
    "    tf.initialize_all_variables().run()\n",
    "    print(\"Initialized\")\n",
    "    for step in range(num_steps):\n",
    "        # Pick an offset within the training data, which has been randomized.\n",
    "        # Note: we could use better randomization across epochs.\n",
    "        offset = (step * batch_size) % (train_labels.shape[0] - batch_size)\n",
    "        # Generate a minibatch.\n",
    "        batch_data = train_dataset[offset:(offset + batch_size), :]\n",
    "        batch_labels = train_labels[offset:(offset + batch_size), :]\n",
    "        # Prepare a dictionary telling the session where to feed the minibatch.\n",
    "        # The key of the dictionary is the placeholder node of the graph to be fed,\n",
    "        # and the value is the numpy array to feed to it.\n",
    "        feed_dict = {tf_train_dataset : batch_data, tf_train_labels : batch_labels, keep_prob : 0.5}\n",
    "        _, l, predictions = session.run([optimizer, loss, train_prediction], feed_dict=feed_dict)\n",
    "        if (step % 500 == 0):\n",
    "            print(\"Minibatch loss at step {}: {}\".format(step, l))\n",
    "            print(\"Minibatch accuracy: {:.1f}\".format(accuracy(predictions, batch_labels)))\n",
    "            print(\"Validation accuracy: {:.1f}\".format(accuracy(valid_prediction.eval(), valid_labels)))\n",
    "    print(\"Test accuracy: {:.1f}\".format(accuracy(test_prediction.eval(), test_labels)))"
   ],
   "metadata": {
    "collapsed": false,
    "pycharm": {
     "name": "#%% \n",
     "is_executing": true
    }
   }
  },
  {
   "cell_type": "code",
   "execution_count": null,
   "outputs": [],
   "source": [
    "\n"
   ],
   "metadata": {
    "collapsed": false,
    "pycharm": {
     "name": "#%%\n"
    }
   }
  }
 ]
}