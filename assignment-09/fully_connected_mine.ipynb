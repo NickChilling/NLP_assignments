{
 "cells": [
  {
   "cell_type": "code",
   "execution_count": 4,
   "metadata": {
    "collapsed": true,
    "pycharm": {
     "is_executing": false
    }
   },
   "outputs": [],
   "source": [
    "import numpy as np\n",
    "import tensorflow as tf\n",
    "from six.moves import cPickle as pickle\n",
    "from six.moves import range "
   ]
  },
  {
   "cell_type": "code",
   "execution_count": 5,
   "outputs": [
    {
     "name": "stdout",
     "text": [
      "Training set (200000, 28, 28) (200000,)\nValidation set (10000, 28, 28) (10000,)\nTest set (10000, 28, 28) (10000,)\n"
     ],
     "output_type": "stream"
    }
   ],
   "source": [
    "pickle_file = \"nlp/NLP_assignments/assignment-09/notMNIST.pickle\"\n",
    "with open(pickle_file, \"rb\") as f:\n",
    "    save = pickle.load(f)\n",
    "    train_dataset = save[\"train_dataset\"]\n",
    "    train_labels = save['train_labels']\n",
    "    valid_dataset = save['valid_dataset']\n",
    "    valid_labels = save['valid_labels']\n",
    "    test_dataset = save['test_dataset']\n",
    "    test_labels = save['test_labels']\n",
    "    del save  # hint to help gc free up memory\n",
    "    print('Training set', train_dataset.shape, train_labels.shape)\n",
    "    print('Validation set', valid_dataset.shape, valid_labels.shape)\n",
    "    print('Test set', test_dataset.shape, test_labels.shape)"
   ],
   "metadata": {
    "collapsed": false,
    "pycharm": {
     "name": "#%%\n",
     "is_executing": false
    }
   }
  },
  {
   "cell_type": "code",
   "execution_count": 17,
   "outputs": [
    {
     "name": "stdout",
     "text": [
      "Training set (200000, 784) (200000, 10)\nValidation set (10000, 784) (10000, 10)\nTest set (10000, 784) (10000, 10)\n"
     ],
     "output_type": "stream"
    }
   ],
   "source": [
    "image_size = 28\n",
    "num_labels = 10\n",
    "\n",
    "def reformat(dataset, labels):\n",
    "    dataset = dataset.reshape(-1, image_size*image_size)\n",
    "    labels = (np.arange(num_labels) == labels[:,None]).astype(np.float32)\n",
    "    # one-hot encoder\n",
    "    return dataset, labels\n",
    "\n",
    "train_dataset, train_labels = reformat(train_dataset, train_labels)\n",
    "valid_dataset, valid_labels = reformat(valid_dataset, valid_labels)\n",
    "test_dataset, test_labels = reformat(test_dataset, test_labels)\n",
    "print('Training set', train_dataset.shape, train_labels.shape)\n",
    "print('Validation set', valid_dataset.shape, valid_labels.shape)\n",
    "print('Test set', test_dataset.shape, test_labels.shape)\n"
   ],
   "metadata": {
    "collapsed": false,
    "pycharm": {
     "name": "#%%\n",
     "is_executing": false
    }
   }
  },
  {
   "cell_type": "markdown",
   "source": [
    "首先需要定义计算图 `with graph.as_default():`\n"
   ],
   "metadata": {
    "collapsed": false,
    "pycharm": {
     "name": "#%% md\n"
    }
   }
  },
  {
   "cell_type": "code",
   "execution_count": 20,
   "outputs": [],
   "source": [
    "train_subset = 10000\n",
    "\n",
    "graph = tf.Graph()\n",
    "\n",
    "with graph.as_default():\n",
    "    tf_train_dataset = tf.constant(train_dataset[:train_subset,:])\n",
    "    tf_train_labels = tf.constant(train_labels[:train_subset])\n",
    "    tf_valid_dataset = tf.constant(valid_dataset)\n",
    "    tf_test_dataset = tf.constant(test_dataset)\n",
    "    weights = tf.Variable(\n",
    "        tf.truncated_normal([image_size*image_size,num_labels])\n",
    "    )\n",
    "    biases = tf.Variable(tf.zeros([num_labels]))\n",
    "    \n",
    "    logits = tf.matmul(tf_train_dataset, weights) + biases\n",
    "    \n",
    "    loss = tf.reduce_mean(\n",
    "        tf.nn.softmax_cross_entropy_with_logits(labels= tf_train_labels, logits=logits)\n",
    "    )\n",
    "    optimizer = tf.train.GradientDescentOptimizer(0.5).minimize(loss)\n",
    "    \n",
    "    train_prediction = tf.nn.softmax(logits)\n",
    "    valid_prediction = tf.nn.softmax(\n",
    "        tf.matmul(tf_valid_dataset, weights) + biases\n",
    "    )\n",
    "    test_prediction = tf.nn.softmax(tf.matmul(tf_test_dataset,weights)+biases)\n",
    "    "
   ],
   "metadata": {
    "collapsed": false,
    "pycharm": {
     "name": "#%% \n",
     "is_executing": false
    }
   }
  },
  {
   "cell_type": "code",
   "execution_count": 23,
   "outputs": [
    {
     "name": "stdout",
     "text": [
      "Initialized\n",
      "Loss at step 0 17\n",
      "Loss at step 100 2\n",
      "Loss at step 200 1\n",
      "Loss at step 300 1\n",
      "Loss at step 400 1\n",
      "Loss at step 500 1\n",
      "Loss at step 600 1\n",
      "Loss at step 700 1\n",
      "Loss at step 800 1\n",
      "Loss at step 900 1\n",
      "test accurary: 82.8%\n"
     ],
     "output_type": "stream"
    }
   ],
   "source": [
    "num_steps = 1000\n",
    "def accuracy(predictions, labels):\n",
    "    return (100.0 * np.sum(np.argmax(predictions, 1) == np.argmax(labels, 1))\n",
    "            / predictions.shape[0])\n",
    "with tf.Session(graph=graph) as session:\n",
    "    tf.global_variables_initializer().run()\n",
    "    print(\"Initialized\")\n",
    "    for step in range(num_steps):\n",
    "        _, l, predictions = session.run([optimizer, loss, train_prediction])\n",
    "        if step % 100 == 0:\n",
    "            print(\"Loss at step %d %d\" %(step,l))\n",
    "    print(\"test accuracy: %.1f%%\" % accuracy(test_prediction.eval(),test_labels))\n"
   ],
   "metadata": {
    "collapsed": false,
    "pycharm": {
     "name": "#%%\n",
     "is_executing": false
    }
   }
  },
  {
   "cell_type": "code",
   "execution_count": 34,
   "outputs": [
    {
     "name": "stdout",
     "text": [
      "Initialized\n",
      "Mini-batch loss at epoch 0: 3.509690\n",
      "Mini-batch loss at epoch 100: 0.827261\n",
      "Mini-batch loss at epoch 200: 0.710755\n",
      "Mini-batch loss at epoch 300: 0.666889\n",
      "Mini-batch loss at epoch 400: 0.643765\n",
      "89.63\n"
     ],
     "output_type": "stream"
    }
   ],
   "source": [
    "graph = tf.Graph()\n",
    "with graph.as_default():\n",
    "    features = tf.placeholder(tf.float32, shape=(None,image_size*image_size))\n",
    "    labels = tf.placeholder(tf.float32, shape=(None,num_labels))\n",
    "    weights = tf.Variable(tf.truncated_normal([image_size*image_size, num_labels]))\n",
    "    biases = tf.Variable(tf.zeros([num_labels]))\n",
    "    \n",
    "    logits = tf.matmul(features, weights) + biases\n",
    "    loss = tf.reduce_mean(\n",
    "        tf.nn.softmax_cross_entropy_with_logits(labels=labels,logits= logits)\n",
    "    )\n",
    "    optimizer = tf.train.GradientDescentOptimizer(0.01).minimize(loss)\n",
    "    prediction = tf.nn.softmax(logits)\n",
    "\n",
    "batch_size = 100\n",
    "epoches = 400\n",
    "with tf.Session(graph=graph) as session:\n",
    "    tf.global_variables_initializer().run()\n",
    "    print(\"Initialized\")\n",
    "    l = 0\n",
    "    num_steps = len(train_dataset) // batch_size +1\n",
    "    for e in range(epoches):\n",
    "        for step in range(num_steps):\n",
    "            offset = (step *batch_size) %(train_labels.shape[0])\n",
    "            batch_data = train_dataset[offset:(offset + batch_size), :]\n",
    "            batch_labels = train_labels[offset:(offset + batch_size), :]\n",
    "            train_feed_dict = {features : batch_data, labels  : batch_labels}\n",
    "            _, l, train_predictions = session.run(\n",
    "          [optimizer, loss, prediction], feed_dict=train_feed_dict)\n",
    "        if (e % 100 == 0):\n",
    "            print(\"Mini-batch loss at epoch %d: %f\" % (e, l))\n",
    "    test_feed_dict = {features:test_dataset, labels:test_labels }\n",
    "    test_prediction =session.run(prediction, feed_dict=test_feed_dict)\n",
    "    print(accuracy(test_prediction,test_labels))\n"
   ],
   "metadata": {
    "collapsed": false,
    "pycharm": {
     "name": "#%%\n",
     "is_executing": false
    }
   }
  },
  {
   "cell_type": "code",
   "execution_count": 36,
   "outputs": [
    {
     "name": "stdout",
     "text": [
      "Initialized\n",
      "Mini-batch loss at epoch 0: 24.819849\n",
      "Mini-batch loss at epoch 100: 0.352989\n",
      "Mini-batch loss at epoch 200: 0.308277\n",
      "Mini-batch loss at epoch 300: 0.284084\n",
      "92.29\n"
     ],
     "output_type": "stream"
    }
   ],
   "source": [
    "graph = tf.Graph()\n",
    "layer_1 = 1024\n",
    "with graph.as_default():\n",
    "    features = tf.placeholder(tf.float32, shape=(None,image_size*image_size))\n",
    "    labels = tf.placeholder(tf.float32, shape=(None,num_labels))\n",
    "    weights_1 = tf.Variable(tf.truncated_normal([image_size*image_size, layer_1]))\n",
    "    biases_1 = tf.Variable(tf.zeros([layer_1]))\n",
    "    weights_2 = tf.Variable(tf.truncated_normal([layer_1, num_labels]))\n",
    "    biases_2 = tf.Variable(tf.zeros([num_labels]))\n",
    "    logits_1 = tf.matmul(features, weights_1) + biases_1\n",
    "    relu_ = tf.nn.relu(logits_1)\n",
    "    logits_2 = tf.matmul(relu_, weights_2) + biases_2\n",
    "    \n",
    "    loss = tf.reduce_mean(\n",
    "        tf.nn.softmax_cross_entropy_with_logits(labels=labels,logits= logits_2)\n",
    "    )\n",
    "    optimizer = tf.train.GradientDescentOptimizer(0.01).minimize(loss)\n",
    "    prediction = tf.nn.softmax(logits_2)\n",
    "\n",
    "batch_size = 200\n",
    "epoches = 400\n",
    "with tf.Session(graph=graph) as session:\n",
    "    tf.global_variables_initializer().run()\n",
    "    print(\"Initialized\")\n",
    "    l = 0\n",
    "    num_steps = len(train_dataset) // batch_size +1\n",
    "    for e in range(epoches):\n",
    "        for step in range(num_steps):\n",
    "            offset = (step *batch_size) %(train_labels.shape[0])\n",
    "            batch_data = train_dataset[offset:(offset + batch_size), :]\n",
    "            batch_labels = train_labels[offset:(offset + batch_size), :]\n",
    "            train_feed_dict = {features : batch_data, labels  : batch_labels}\n",
    "            _, l, train_predictions = session.run(\n",
    "          [optimizer, loss, prediction], feed_dict=train_feed_dict)\n",
    "        if (e % 100 == 0):\n",
    "            print(\"Mini-batch loss at epoch %d: %f\" % (e, l))\n",
    "    test_feed_dict = {features:test_dataset, labels:test_labels }\n",
    "    test_prediction =session.run(prediction, feed_dict=test_feed_dict)\n",
    "    print(accuracy(test_prediction,test_labels))\n",
    "\n",
    "\n"
   ],
   "metadata": {
    "collapsed": false,
    "pycharm": {
     "name": "#%%\n",
     "is_executing": false
    }
   }
  }
 ],
 "metadata": {
  "language_info": {
   "codemirror_mode": {
    "name": "ipython",
    "version": 2
   },
   "file_extension": ".py",
   "mimetype": "text/x-python",
   "name": "python",
   "nbconvert_exporter": "python",
   "pygments_lexer": "ipython2",
   "version": "2.7.6"
  },
  "kernelspec": {
   "name": "python3",
   "language": "python",
   "display_name": "Python 3"
  },
  "pycharm": {
   "stem_cell": {
    "cell_type": "raw",
    "source": [],
    "metadata": {
     "collapsed": false
    }
   }
  }
 },
 "nbformat": 4,
 "nbformat_minor": 0
}