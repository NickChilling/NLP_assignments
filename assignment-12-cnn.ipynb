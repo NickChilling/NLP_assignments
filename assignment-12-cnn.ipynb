{
 "cells": [
  {
   "cell_type": "markdown",
   "metadata": {
    "colab_type": "text",
    "id": "4embtkV0pNxM"
   },
   "source": [
    "Deep Learning\n",
    "=============\n",
    "\n",
    "Assignment 4\n",
    "------------\n",
    "\n",
    "Previously in `2_fullyconnected.ipynb` and `3_regularization.ipynb`, we trained fully connected networks to classify [notMNIST](http://yaroslavvb.blogspot.com/2011/09/notmnist-dataset.html) characters.\n",
    "\n",
    "The goal of this assignment is make the neural network convolutional."
   ]
  },
  {
   "cell_type": "code",
   "execution_count": 4,
   "metadata": {
    "cellView": "both",
    "colab": {
     "autoexec": {
      "startup": false,
      "wait_interval": 0
     }
    },
    "colab_type": "code",
    "id": "tm2CQN_Cpwj0",
    "pycharm": {
     "is_executing": false
    }
   },
   "outputs": [],
   "source": [
    "# These are all the modules we'll be using later. Make sure you can import them\n",
    "# before proceeding further.\n",
    "from __future__ import print_function\n",
    "import tensorflow as tf\n",
    "from six.moves import cPickle as pickle\n",
    "from six.moves import range\n",
    "from tqdm import tqdm "
   ]
  },
  {
   "cell_type": "code",
   "execution_count": 5,
   "outputs": [
    {
     "name": "stdout",
     "text": [
      "Training set (200000, 28, 28) (200000,)\nValidation set (10000, 28, 28) (10000,)\nTest set (10000, 28, 28) (10000,)\n"
     ],
     "output_type": "stream"
    }
   ],
   "source": [
    "pickle_file = 'nlp/NLP_assignments/assignment-09/notMNIST.pickle'\n",
    "\n",
    "with open(pickle_file, 'rb') as f:\n",
    "    save = pickle.load(f)\n",
    "    train_dataset = save['train_dataset']\n",
    "    train_labels = save['train_labels']\n",
    "    valid_dataset = save['valid_dataset']\n",
    "    valid_labels = save['valid_labels']\n",
    "    test_dataset = save['test_dataset']\n",
    "    test_labels = save['test_labels']\n",
    "    del save  # hint to help gc free up memory\n",
    "    print('Training set', train_dataset.shape, train_labels.shape)\n",
    "    print('Validation set', valid_dataset.shape, valid_labels.shape)\n",
    "    print('Test set', test_dataset.shape, test_labels.shape)"
   ],
   "metadata": {
    "collapsed": false,
    "pycharm": {
     "name": "#%%\n",
     "is_executing": false
    }
   }
  },
  {
   "cell_type": "markdown",
   "metadata": {
    "colab_type": "text",
    "id": "L7aHrm6nGDMB"
   },
   "source": [
    "Reformat into a TensorFlow-friendly shape:\n",
    "- convolutions need the image data formatted as a cube (width by height by #channels)\n",
    "- labels as float 1-hot encodings."
   ]
  },
  {
   "cell_type": "code",
   "execution_count": 6,
   "metadata": {
    "cellView": "both",
    "colab": {
     "autoexec": {
      "startup": false,
      "wait_interval": 0
     },
     "output_extras": [
      {
       "item_id": 1
      }
     ]
    },
    "colab_type": "code",
    "executionInfo": {
     "elapsed": 11952,
     "status": "ok",
     "timestamp": 1446658914857,
     "user": {
      "color": "",
      "displayName": "",
      "isAnonymous": false,
      "isMe": true,
      "permissionId": "",
      "photoUrl": "",
      "sessionId": "0",
      "userId": ""
     },
     "user_tz": 480
    },
    "id": "IRSyYiIIGIzS",
    "outputId": "650a208c-8359-4852-f4f5-8bf10e80ef6c",
    "pycharm": {
     "is_executing": false
    }
   },
   "outputs": [
    {
     "name": "stdout",
     "text": [
      "Training set (200000, 28, 28, 1) (200000, 10)\nValidation set (10000, 28, 28, 1) (10000, 10)\nTest set (10000, 28, 28, 1) (10000, 10)\n"
     ],
     "output_type": "stream"
    }
   ],
   "source": [
    "image_size = 28\n",
    "num_labels = 10\n",
    "num_channels = 1 # gray scale\n",
    "\n",
    "import numpy as np\n",
    "\n",
    "def reformat(dataset, labels):\n",
    "    dataset = dataset.reshape(\n",
    "    (-1, image_size, image_size, num_channels)).astype(np.float32)\n",
    "    labels = (np.arange(num_labels) == labels[:,None]).astype(np.float32)\n",
    "    return dataset, labels\n",
    "train_dataset, train_labels = reformat(train_dataset, train_labels)\n",
    "valid_dataset, valid_labels = reformat(valid_dataset, valid_labels)\n",
    "test_dataset, test_labels = reformat(test_dataset, test_labels)\n",
    "print('Training set', train_dataset.shape, train_labels.shape)\n",
    "print('Validation set', valid_dataset.shape, valid_labels.shape)\n",
    "print('Test set', test_dataset.shape, test_labels.shape)"
   ]
  },
  {
   "cell_type": "code",
   "execution_count": 7,
   "metadata": {
    "cellView": "both",
    "colab": {
     "autoexec": {
      "startup": false,
      "wait_interval": 0
     }
    },
    "colab_type": "code",
    "id": "AgQDIREv02p1",
    "pycharm": {
     "is_executing": false
    }
   },
   "outputs": [],
   "source": [
    "def accuracy(predictions, labels):\n",
    "    return (100.0 * np.sum(np.argmax(predictions, 1) == np.argmax(labels, 1))\n",
    "          / predictions.shape[0])"
   ]
  },
  {
   "cell_type": "markdown",
   "metadata": {
    "colab_type": "text",
    "id": "5rhgjmROXu2O"
   },
   "source": [
    "Let's build a small network with two convolutional layers, followed by one fully connected layer. Convolutional networks are more expensive computationally, so we'll limit its depth and number of fully connected nodes."
   ]
  },
  {
   "cell_type": "code",
   "execution_count": 8,
   "metadata": {
    "cellView": "both",
    "colab": {
     "autoexec": {
      "startup": false,
      "wait_interval": 0
     }
    },
    "colab_type": "code",
    "id": "IZYv70SvvOan",
    "scrolled": true,
    "pycharm": {
     "is_executing": false
    }
   },
   "outputs": [
    {
     "name": "stdout",
     "text": [
      "WARNING:tensorflow:From <ipython-input-8-f0dbf6a19e31>:45: softmax_cross_entropy_with_logits (from tensorflow.python.ops.nn_ops) is deprecated and will be removed in a future version.\nInstructions for updating:\n\nFuture major versions of TensorFlow will allow gradients to flow\ninto the labels input on backprop by default.\n\nSee `tf.nn.softmax_cross_entropy_with_logits_v2`.\n\n"
     ],
     "output_type": "stream"
    }
   ],
   "source": [
    "batch_size = 16\n",
    "patch_size = 5\n",
    "depth = 16\n",
    "num_hidden = 64\n",
    "\n",
    "graph = tf.Graph()\n",
    "\n",
    "with graph.as_default():\n",
    "\n",
    "  # Input data.\n",
    "    tf_train_dataset = tf.placeholder(\n",
    "    tf.float32, shape=(batch_size, image_size, image_size, num_channels))\n",
    "    tf_train_labels = tf.placeholder(tf.float32, shape=(batch_size, num_labels))\n",
    "    tf_valid_dataset = tf.constant(valid_dataset)\n",
    "    tf_test_dataset = tf.constant(test_dataset)\n",
    "  \n",
    "  # Variables.\n",
    "    layer1_weights = tf.Variable(tf.truncated_normal(\n",
    "      [patch_size, patch_size, num_channels, depth], stddev=0.1)) # patch_size -> kernel_size, num_channels-> last dim -> this dim\n",
    "    layer1_biases = tf.Variable(tf.zeros([depth]))\n",
    "    layer2_weights = tf.Variable(tf.truncated_normal(\n",
    "      [patch_size, patch_size, depth, depth], stddev=0.1))\n",
    "    layer2_biases = tf.Variable(tf.constant(1.0, shape=[depth]))\n",
    "    layer3_weights = tf.Variable(tf.truncated_normal(\n",
    "      [image_size // 4 * image_size // 4 * depth, num_hidden], stddev=0.1))  # fully connected layer height = 16/2 16/2  所以是16//4 \n",
    "    layer3_biases = tf.Variable(tf.constant(1.0, shape=[num_hidden]))\n",
    "    layer4_weights = tf.Variable(tf.truncated_normal(\n",
    "      [num_hidden, num_labels], stddev=0.1))\n",
    "    layer4_biases = tf.Variable(tf.constant(1.0, shape=[num_labels]))\n",
    "  \n",
    "  # Model.\n",
    "    def model(data):\n",
    "        conv = tf.nn.conv2d(data, layer1_weights, [1, 2, 2, 1], padding='SAME')\n",
    "        hidden = tf.nn.relu(conv + layer1_biases)\n",
    "        conv = tf.nn.conv2d(hidden, layer2_weights, [1, 2, 2, 1], padding='SAME')\n",
    "        hidden = tf.nn.relu(conv + layer2_biases)\n",
    "        shape = hidden.get_shape().as_list()\n",
    "        reshape = tf.reshape(hidden, [-1, shape[1] * shape[2] * shape[3]])\n",
    "        hidden = tf.nn.relu(tf.matmul(reshape, layer3_weights) + layer3_biases)\n",
    "        return tf.matmul(hidden, layer4_weights) + layer4_biases\n",
    "  \n",
    "  # Training computation.\n",
    "    logits = model(tf_train_dataset)\n",
    "    loss = tf.reduce_mean(\n",
    "    tf.nn.softmax_cross_entropy_with_logits(labels=tf_train_labels, logits=logits))\n",
    "    \n",
    "  # Optimizer.\n",
    "    optimizer = tf.train.GradientDescentOptimizer(0.05).minimize(loss)\n",
    "  \n",
    "  # Predictions for the training, validation, and test data.\n",
    "    train_prediction = tf.nn.softmax(logits)\n",
    "    valid_prediction = tf.nn.softmax(model(tf_valid_dataset))\n",
    "    test_prediction = tf.nn.softmax(model(tf_test_dataset))"
   ]
  },
  {
   "cell_type": "markdown",
   "metadata": {},
   "source": [
    "## same padding \n",
    "最低限度填充\n",
    "\n",
    "new = 向上取整w/s"
   ]
  },
  {
   "cell_type": "code",
   "execution_count": null,
   "metadata": {
    "cellView": "both",
    "colab": {
     "autoexec": {
      "startup": false,
      "wait_interval": 0
     },
     "output_extras": [
      {
       "item_id": 37
      }
     ]
    },
    "colab_type": "code",
    "executionInfo": {
     "elapsed": 63292,
     "status": "ok",
     "timestamp": 1446658966251,
     "user": {
      "color": "",
      "displayName": "",
      "isAnonymous": false,
      "isMe": true,
      "permissionId": "",
      "photoUrl": "",
      "sessionId": "0",
      "userId": ""
     },
     "user_tz": 480
    },
    "id": "noKFb2UovVFR",
    "outputId": "28941338-2ef9-4088-8bd1-44295661e628",
    "pycharm": {
     "is_executing": true
    }
   },
   "outputs": [
    {
     "name": "stdout",
     "text": [
      "Initialized\n",
      "Minibatch loss at step 0: 2.753566\nMinibatch accuracy: 12.5%\n",
      "Validation accuracy: 10.0%\n",
      "Minibatch loss at step 50: 2.113889\nMinibatch accuracy: 31.2%\n",
      "Validation accuracy: 33.1%\n",
      "Minibatch loss at step 100: 1.510559\nMinibatch accuracy: 50.0%\n",
      "Validation accuracy: 58.2%\n",
      "Minibatch loss at step 150: 0.417214\nMinibatch accuracy: 93.8%\n",
      "Validation accuracy: 74.0%\n",
      "Minibatch loss at step 200: 0.666050\nMinibatch accuracy: 75.0%\n",
      "Validation accuracy: 77.6%\n",
      "Minibatch loss at step 250: 0.610765\nMinibatch accuracy: 87.5%\n",
      "Validation accuracy: 78.3%\n",
      "Minibatch loss at step 300: 0.455869\nMinibatch accuracy: 81.2%\n",
      "Validation accuracy: 78.7%\n",
      "Minibatch loss at step 350: 0.489266\nMinibatch accuracy: 87.5%\n",
      "Validation accuracy: 79.0%\n",
      "Minibatch loss at step 400: 0.767434\nMinibatch accuracy: 68.8%\n",
      "Validation accuracy: 78.2%\n",
      "Minibatch loss at step 450: 0.810616\nMinibatch accuracy: 68.8%\n",
      "Validation accuracy: 80.5%\n",
      "Minibatch loss at step 500: 0.697201\nMinibatch accuracy: 81.2%\n",
      "Validation accuracy: 80.5%\n",
      "Minibatch loss at step 550: 0.830912\nMinibatch accuracy: 75.0%\n",
      "Validation accuracy: 81.2%\n",
      "Minibatch loss at step 600: 0.477751\nMinibatch accuracy: 87.5%\n",
      "Validation accuracy: 81.0%\n",
      "Minibatch loss at step 650: 0.438077\nMinibatch accuracy: 81.2%\n",
      "Validation accuracy: 81.0%\n",
      "Minibatch loss at step 700: 0.629264\nMinibatch accuracy: 81.2%\n",
      "Validation accuracy: 81.5%\n",
      "Minibatch loss at step 750: 0.980629\nMinibatch accuracy: 75.0%\n",
      "Validation accuracy: 82.2%\n",
      "Minibatch loss at step 800: 0.309585\nMinibatch accuracy: 93.8%\n",
      "Validation accuracy: 82.2%\n",
      "Minibatch loss at step 850: 0.636358\nMinibatch accuracy: 81.2%\n",
      "Validation accuracy: 82.6%\n",
      "Minibatch loss at step 900: 1.058752\nMinibatch accuracy: 81.2%\n",
      "Validation accuracy: 81.5%\n",
      "Minibatch loss at step 950: 0.664649\nMinibatch accuracy: 75.0%\n",
      "Validation accuracy: 83.7%\n",
      "Minibatch loss at step 1000: 0.241350\nMinibatch accuracy: 100.0%\n",
      "Validation accuracy: 83.1%\n"
     ],
     "output_type": "stream"
    }
   ],
   "source": [
    "num_steps = 1001\n",
    "\n",
    "with tf.Session(graph=graph) as session:\n",
    "    tf.global_variables_initializer().run()\n",
    "    print('Initialized')\n",
    "    for step in range(num_steps):\n",
    "        offset = (step * batch_size) % (train_labels.shape[0] - batch_size)\n",
    "        batch_data = train_dataset[offset:(offset + batch_size), :, :, :]\n",
    "        batch_labels = train_labels[offset:(offset + batch_size), :]\n",
    "        feed_dict = {tf_train_dataset : batch_data, tf_train_labels : batch_labels}\n",
    "        _, l, predictions = session.run(\n",
    "      [optimizer, loss, train_prediction], feed_dict=feed_dict)\n",
    "        if step % 50 == 0:\n",
    "            print('Minibatch loss at step %d: %f' % (step, l))\n",
    "            print('Minibatch accuracy: %.1f%%' % accuracy(predictions, batch_labels))\n",
    "            print('Validation accuracy: %.1f%%' % accuracy(\n",
    "                valid_prediction.eval(), valid_labels))\n",
    "    print('Test accuracy: %.1f%%' % accuracy(test_prediction.eval(), test_labels))"
   ]
  },
  {
   "cell_type": "markdown",
   "metadata": {
    "colab_type": "text",
    "id": "KedKkn4EutIK"
   },
   "source": [
    "---\n",
    "Problem 1\n",
    "---------\n",
    "\n",
    "The convolutional model above uses convolutions with stride 2 to reduce the dimensionality. Replace the strides by a max pooling operation (`nn.max_pool()`) of stride 2 and kernel size 2.\n",
    "\n",
    "---"
   ]
  },
  {
   "cell_type": "code",
   "execution_count": 9,
   "metadata": {
    "pycharm": {
     "is_executing": false
    }
   },
   "outputs": [],
   "source": [
    "class Model:\n",
    "    def __init__(self, graph=None):\n",
    "        if not graph:\n",
    "            self.graph = tf.Graph()\n",
    "        else:\n",
    "            self.graph = graph\n",
    "    \n",
    "    def build_graph(self, image_size, channel, num_labels, kernel_size, depth, flat_units): # keep_prob should in the train process \n",
    "        with self.graph.as_default():\n",
    "            self.feature = tf.placeholder(tf.float32, shape=[None, image_size, image_size, channel])\n",
    "            self.labels = tf.placeholder(tf.float32, shape = [None, num_labels])\n",
    "            self.keep_prob = tf.placeholder(tf.float32, shape = ())\n",
    "            \n",
    "            filter1= tf.get_variable(\"f1\",shape=[kernel_size,kernel_size, channel, depth],initializer=tf.initializers.glorot_normal())\n",
    "            biases1 = tf.get_variable(\"b1\",shape = [depth], initializer=tf.initializers.glorot_normal())\n",
    "            layer1 = tf.nn.relu(tf.nn.conv2d(self.feature,filter1,[1,2,2,1],\"SAME\")+biases1)\n",
    "            dropout1 = tf.nn.dropout(layer1,keep_prob=self.keep_prob)\n",
    "            \n",
    "            filter2 = tf.get_variable(\"f2\", shape=[kernel_size,kernel_size,depth, depth], initializer=tf.initializers.glorot_normal())\n",
    "            biases2 = tf.get_variable(\"b2\", shape=[depth])\n",
    "            layer2 = tf.nn.relu(tf.nn.conv2d(dropout1,filter2,strides=[1,2,2,1],padding=\"SAME\")+biases2)\n",
    "                        \n",
    "            drop_shape = layer2.shape\n",
    "            reshaped = tf.reshape(layer2, shape=[-1,drop_shape[1]*drop_shape[2]*drop_shape[3]])\n",
    "            dropout2 = tf.nn.dropout(reshaped,keep_prob=self.keep_prob)\n",
    "            transformed_size = image_size // 4\n",
    "            \n",
    "            weight3 = tf.get_variable(\"w3\", shape =[transformed_size*transformed_size*depth, flat_units],initializer=tf.initializers.glorot_normal())\n",
    "            biases3 = tf.get_variable(\"b3\", shape=[flat_units])\n",
    "            \n",
    "            fully_connected= tf.nn.relu(tf.matmul(dropout2,weight3)+biases3)\n",
    "            \n",
    "            weight4 = tf.get_variable(\"w4\", shape = [flat_units, num_labels],initializer=tf.initializers.glorot_normal())\n",
    "            biases4 = tf.get_variable(\"b4\", shape = [num_labels],initializer=tf.initializers.glorot_normal())\n",
    "            \n",
    "            output_logits = tf.matmul(fully_connected,weight4)+biases4\n",
    "            \n",
    "            \n",
    "            self.loss = tf.reduce_mean(\n",
    "                tf.nn.softmax_cross_entropy_with_logits(logits=output_logits,labels=self.labels)\n",
    "            )\n",
    "            self.optimizer = tf.train.AdagradOptimizer(0.005).minimize(self.loss)\n",
    "            \n",
    "            self.prediction = tf.nn.softmax(output_logits)\n",
    "            \n",
    "            self.accuracy = np.mean(tf.argmax(self.prediction,axis=1) == tf.argmax(self.labels))\n",
    "        \n",
    "    def make_dataset(self, x, y , batch_size=50):\n",
    "        origin_dict = (x,y)\n",
    "        dataset = tf.data.Dataset.from_tensor_slices(origin_dict)\n",
    "        dataset = dataset.shuffle()  # buffer_size 每次从多少个数据中抽样\n",
    "        dataset = dataset.batch(batch_size)\n",
    "        dataset = dataset.repeat()\n",
    "        dataset_iter = dataset.make_one_shot_iterator()\n",
    "        next_iter = dataset_iter.get_next()\n",
    "        return next_iter\n",
    "    \n",
    "    def train(self,data_dict, epoch_num, dropout_rate=0.7):\n",
    "        \n",
    "        train_iter = self.make_dataset(data_dict[\"train_x\"],data_dict[\"train_y\"])\n",
    "        dev_iter = self.make_dataset(data_dict[\"dev_x\"],data_dict[\"dev_y\"])\n",
    "        test_iter = self.make_dataset(data_dict[\"test_x\"],data_dict[\"test_y\"])\n",
    "        \n",
    "        \n",
    "        with tf.Session(graph=self.graph) as sess:\n",
    "            tf.global_variables_initializer().run()\n",
    "            for i in tqdm(epoch_num):\n",
    "                train_tuple = sess.run(train_iter)\n",
    "                train_dict = {self.feature:train_tuple[0],\n",
    "                              self.labels:train_tuple[1],\n",
    "                              self.keep_prob:dropout_rate}\n",
    "                _, loss = sess.run([self.optimizer,self.loss],\n",
    "                                   feed_dict=train_dict)\n",
    "                if i%100 ==0:\n",
    "                    dev_tuple= sess.run(dev_iter)\n",
    "                    dev_dict = {self.feature:dev_tuple[0],\n",
    "                              self.labels:dev_tuple[1],\n",
    "                              self.keep_prob:dropout_rate}\n",
    "                    dev_accuracy = sess.run(self.accuracy,feed_dict=dev_dict)\n",
    "                    train_accuracy = sess.run(self.accuracy,feed_dict= train_dict)\n",
    "                    print(\"accuracy on train dataset %s\" %train_accuracy)\n",
    "                    print(\"accuracy on dev dataset %s \" %dev_accuracy)\n",
    "                test_tuple = sess.run(test_iter)\n",
    "                train_dict = {self.feature:test_tuple[0],\n",
    "                              self.labels:test_tuple[1],\n",
    "                              self.keep_prob:dropout_rate}\n",
    "                test_accuracy = sess.run(self.accuracy,feed_dict=train_dict)\n",
    "                print(\"accuracy on test dataset %s\" %test_accuracy)                  \n",
    "            \n",
    "    \n",
    "    def evaluate(self, X, Y):\n",
    "        pass  "
   ]
  },
  {
   "cell_type": "code",
   "execution_count": null,
   "outputs": [
    {
     "name": "stdout",
     "text": [
      "WARNING:tensorflow:From /home/chihao/miniconda3/lib/python3.7/site-packages/tensorflow/python/ops/init_ops.py:1288: calling VarianceScaling.__init__ (from tensorflow.python.ops.init_ops) with dtype is deprecated and will be removed in a future version.\nInstructions for updating:\nCall initializer instance with the dtype argument instead of passing it to the constructor\n",
      "WARNING:tensorflow:From <ipython-input-9-6deeaccb11b0>:17: calling dropout (from tensorflow.python.ops.nn_ops) with keep_prob is deprecated and will be removed in a future version.\nInstructions for updating:\nPlease use `rate` instead of `keep_prob`. Rate should be set to `rate = 1 - keep_prob`.\n",
      "WARNING:tensorflow:From /home/chihao/miniconda3/lib/python3.7/site-packages/tensorflow/python/training/adagrad.py:76: calling Constant.__init__ (from tensorflow.python.ops.init_ops) with dtype is deprecated and will be removed in a future version.\nInstructions for updating:\nCall initializer instance with the dtype argument instead of passing it to the constructor\n"
     ],
     "output_type": "stream"
    }
   ],
   "source": [
    "new_model = Model()\n",
    "new_model.build_graph(image_size,num_channels,num_labels,patch_size,depth,num_hidden)\n",
    "print(\"build graph successfully\")\n",
    "data_dict = {\n",
    "    \"train_x\":train_dataset,\n",
    "    \"train_y\":train_labels,\n",
    "    \"dev_x\":valid_dataset,\n",
    "    \"dev_y\":valid_labels,\n",
    "    \"test_x\":test_dataset,\n",
    "    \"test_y\":test_labels\n",
    "}\n",
    "new_model.train(data_dict,200)"
   ],
   "metadata": {
    "collapsed": false,
    "pycharm": {
     "name": "#%%\n",
     "is_executing": true
    }
   }
  },
  {
   "cell_type": "markdown",
   "metadata": {
    "colab_type": "text",
    "id": "klf21gpbAgb-"
   },
   "source": [
    "---\n",
    "Problem 2\n",
    "---------\n",
    "\n",
    "Try to get the best performance you can using a convolutional net. Look for example at the classic [LeNet5](http://yann.lecun.com/exdb/lenet/) architecture, adding Dropout, and/or adding learning rate decay.\n",
    "\n",
    "---"
   ]
  }
 ],
 "metadata": {
  "colab": {
   "default_view": {},
   "name": "4_convolutions.ipynb",
   "provenance": [],
   "toc_visible": true,
   "version": "0.3.2",
   "views": {}
  },
  "kernelspec": {
   "display_name": "Python 3",
   "language": "python",
   "name": "python3"
  },
  "language_info": {
   "codemirror_mode": {
    "name": "ipython",
    "version": 3
   },
   "file_extension": ".py",
   "mimetype": "text/x-python",
   "name": "python",
   "nbconvert_exporter": "python",
   "pygments_lexer": "ipython3",
   "version": "3.7.3"
  },
  "pycharm": {
   "stem_cell": {
    "cell_type": "raw",
    "source": [],
    "metadata": {
     "collapsed": false
    }
   }
  }
 },
 "nbformat": 4,
 "nbformat_minor": 1
}