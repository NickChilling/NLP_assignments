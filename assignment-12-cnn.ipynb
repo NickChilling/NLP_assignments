{
 "cells": [
  {
   "cell_type": "markdown",
   "metadata": {
    "colab_type": "text",
    "id": "4embtkV0pNxM"
   },
   "source": [
    "Deep Learning\n",
    "=============\n",
    "\n",
    "Assignment 4\n",
    "------------\n",
    "\n",
    "Previously in `2_fullyconnected.ipynb` and `3_regularization.ipynb`, we trained fully connected networks to classify [notMNIST](http://yaroslavvb.blogspot.com/2011/09/notmnist-dataset.html) characters.\n",
    "\n",
    "The goal of this assignment is make the neural network convolutional."
   ]
  },
  {
   "cell_type": "code",
   "execution_count": 7,
   "metadata": {
    "cellView": "both",
    "colab": {
     "autoexec": {
      "startup": false,
      "wait_interval": 0
     }
    },
    "colab_type": "code",
    "id": "tm2CQN_Cpwj0",
    "pycharm": {
     "is_executing": false
    }
   },
   "outputs": [],
   "source": [
    "# These are all the modules we'll be using later. Make sure you can import them\n",
    "# before proceeding further.\n",
    "from __future__ import print_function\n",
    "import tensorflow.compat.v1 as tf\n",
    "from six.moves import cPickle as pickle\n",
    "from six.moves import range\n",
    "from tqdm import tqdm_notebook as tqdm"
   ]
  },
  {
   "cell_type": "code",
   "execution_count": 8,
   "metadata": {},
   "outputs": [
    {
     "name": "stdout",
     "output_type": "stream",
     "text": [
      "2.0.0\n"
     ]
    }
   ],
   "source": [
    "print(tf.__version__)"
   ]
  },
  {
   "cell_type": "code",
   "execution_count": 9,
   "metadata": {
    "pycharm": {
     "is_executing": false,
     "name": "#%%\n"
    }
   },
   "outputs": [
    {
     "name": "stdout",
     "output_type": "stream",
     "text": [
      "Training set (200000, 28, 28) (200000,)\n",
      "Validation set (10000, 28, 28) (10000,)\n",
      "Test set (10000, 28, 28) (10000,)\n"
     ]
    }
   ],
   "source": [
    "pickle_file = '/home/chihao/nlp/NLP_assignments/assignment-09/notMNIST.pickle'\n",
    "\n",
    "with open(pickle_file, 'rb') as f:\n",
    "    save = pickle.load(f)\n",
    "    train_dataset = save['train_dataset']\n",
    "    train_labels = save['train_labels']\n",
    "    valid_dataset = save['valid_dataset']\n",
    "    valid_labels = save['valid_labels']\n",
    "    test_dataset = save['test_dataset']\n",
    "    test_labels = save['test_labels']\n",
    "    del save  # hint to help gc free up memory\n",
    "    print('Training set', train_dataset.shape, train_labels.shape)\n",
    "    print('Validation set', valid_dataset.shape, valid_labels.shape)\n",
    "    print('Test set', test_dataset.shape, test_labels.shape)"
   ]
  },
  {
   "cell_type": "markdown",
   "metadata": {
    "colab_type": "text",
    "id": "L7aHrm6nGDMB"
   },
   "source": [
    "Reformat into a TensorFlow-friendly shape:\n",
    "- convolutions need the image data formatted as a cube (width by height by #channels)\n",
    "- labels as float 1-hot encodings."
   ]
  },
  {
   "cell_type": "code",
   "execution_count": 10,
   "metadata": {
    "cellView": "both",
    "colab": {
     "autoexec": {
      "startup": false,
      "wait_interval": 0
     },
     "output_extras": [
      {
       "item_id": 1
      }
     ]
    },
    "colab_type": "code",
    "executionInfo": {
     "elapsed": 11952,
     "status": "ok",
     "timestamp": 1446658914857,
     "user": {
      "color": "",
      "displayName": "",
      "isAnonymous": false,
      "isMe": true,
      "permissionId": "",
      "photoUrl": "",
      "sessionId": "0",
      "userId": ""
     },
     "user_tz": 480
    },
    "id": "IRSyYiIIGIzS",
    "outputId": "650a208c-8359-4852-f4f5-8bf10e80ef6c",
    "pycharm": {
     "is_executing": false
    }
   },
   "outputs": [
    {
     "name": "stdout",
     "output_type": "stream",
     "text": [
      "Training set (200000, 28, 28, 1) (200000, 10)\n",
      "Validation set (10000, 28, 28, 1) (10000, 10)\n",
      "Test set (10000, 28, 28, 1) (10000, 10)\n"
     ]
    }
   ],
   "source": [
    "image_size = 28\n",
    "num_labels = 10\n",
    "num_channels = 1 # gray scale\n",
    "\n",
    "import numpy as np\n",
    "\n",
    "def reformat(dataset, labels):\n",
    "    dataset = dataset.reshape(\n",
    "    (-1, image_size, image_size, num_channels)).astype(np.float32)\n",
    "    labels = (np.arange(num_labels) == labels[:,None]).astype(np.float32)\n",
    "    return dataset, labels\n",
    "train_dataset, train_labels = reformat(train_dataset, train_labels)\n",
    "valid_dataset, valid_labels = reformat(valid_dataset, valid_labels)\n",
    "test_dataset, test_labels = reformat(test_dataset, test_labels)\n",
    "print('Training set', train_dataset.shape, train_labels.shape)\n",
    "print('Validation set', valid_dataset.shape, valid_labels.shape)\n",
    "print('Test set', test_dataset.shape, test_labels.shape)"
   ]
  },
  {
   "cell_type": "code",
   "execution_count": 5,
   "metadata": {
    "cellView": "both",
    "colab": {
     "autoexec": {
      "startup": false,
      "wait_interval": 0
     }
    },
    "colab_type": "code",
    "id": "AgQDIREv02p1",
    "pycharm": {
     "is_executing": false
    }
   },
   "outputs": [],
   "source": [
    "def accuracy(predictions, labels):\n",
    "    return (100.0 * np.sum(np.argmax(predictions, 1) == np.argmax(labels, 1))\n",
    "          / predictions.shape[0])"
   ]
  },
  {
   "cell_type": "markdown",
   "metadata": {
    "colab_type": "text",
    "id": "5rhgjmROXu2O"
   },
   "source": [
    "Let's build a small network with two convolutional layers, followed by one fully connected layer. Convolutional networks are more expensive computationally, so we'll limit its depth and number of fully connected nodes."
   ]
  },
  {
   "cell_type": "code",
   "execution_count": 11,
   "metadata": {
    "cellView": "both",
    "colab": {
     "autoexec": {
      "startup": false,
      "wait_interval": 0
     }
    },
    "colab_type": "code",
    "id": "IZYv70SvvOan",
    "pycharm": {
     "is_executing": false
    },
    "scrolled": true
   },
   "outputs": [
    {
     "name": "stdout",
     "output_type": "stream",
     "text": [
      "WARNING:tensorflow:From /home/chihao/miniconda3/lib/python3.7/site-packages/tensorflow_core/python/ops/resource_variable_ops.py:1630: calling BaseResourceVariable.__init__ (from tensorflow.python.ops.resource_variable_ops) with constraint is deprecated and will be removed in a future version.\n",
      "Instructions for updating:\n",
      "If using Keras pass *_constraint arguments to layers.\n",
      "WARNING:tensorflow:From <ipython-input-11-e5df1caf3bc3>:44: softmax_cross_entropy_with_logits (from tensorflow.python.ops.nn_ops) is deprecated and will be removed in a future version.\n",
      "Instructions for updating:\n",
      "\n",
      "Future major versions of TensorFlow will allow gradients to flow\n",
      "into the labels input on backprop by default.\n",
      "\n",
      "See `tf.nn.softmax_cross_entropy_with_logits_v2`.\n",
      "\n"
     ]
    }
   ],
   "source": [
    "batch_size = 16\n",
    "patch_size = 5\n",
    "depth = 16\n",
    "num_hidden = 64\n",
    "\n",
    "graph = tf.Graph()\n",
    "with graph.as_default():\n",
    "\n",
    "  # Input data.\n",
    "    tf_train_dataset = tf.placeholder(\n",
    "    tf.float32, shape=(batch_size, image_size, image_size, num_channels))\n",
    "    tf_train_labels = tf.placeholder(tf.float32, shape=(batch_size, num_labels))\n",
    "    tf_valid_dataset = tf.constant(valid_dataset)\n",
    "    tf_test_dataset = tf.constant(test_dataset)\n",
    "  \n",
    "  # Variables.\n",
    "    layer1_weights = tf.Variable(tf.truncated_normal(\n",
    "      [patch_size, patch_size, num_channels, depth], stddev=0.1)) # patch_size -> kernel_size, num_channels-> last dim -> this dim\n",
    "    layer1_biases = tf.Variable(tf.zeros([depth]))\n",
    "    layer2_weights = tf.Variable(tf.truncated_normal(\n",
    "      [patch_size, patch_size, depth, depth], stddev=0.1))\n",
    "    layer2_biases = tf.Variable(tf.constant(1.0, shape=[depth]))\n",
    "    layer3_weights = tf.Variable(tf.truncated_normal(\n",
    "      [image_size // 4 * image_size // 4 * depth, num_hidden], stddev=0.1))  # fully connected layer height = 16/2 16/2  所以是16//4 \n",
    "    layer3_biases = tf.Variable(tf.constant(1.0, shape=[num_hidden]))\n",
    "    layer4_weights = tf.Variable(tf.truncated_normal(\n",
    "      [num_hidden, num_labels], stddev=0.1))\n",
    "    layer4_biases = tf.Variable(tf.constant(1.0, shape=[num_labels]))\n",
    "  \n",
    "  # Model.\n",
    "    def model(data):\n",
    "        conv = tf.nn.conv2d(data, layer1_weights, [1, 2, 2, 1], padding='SAME')\n",
    "        hidden = tf.nn.relu(conv + layer1_biases)\n",
    "        conv = tf.nn.conv2d(hidden, layer2_weights, [1, 2, 2, 1], padding='SAME')\n",
    "        hidden = tf.nn.relu(conv + layer2_biases)\n",
    "        shape = hidden.get_shape().as_list()\n",
    "        reshape = tf.reshape(hidden, [-1, shape[1] * shape[2] * shape[3]])\n",
    "        hidden = tf.nn.relu(tf.matmul(reshape, layer3_weights) + layer3_biases)\n",
    "        return tf.matmul(hidden, layer4_weights) + layer4_biases\n",
    "  \n",
    "  # Training computation.\n",
    "    logits = model(tf_train_dataset)\n",
    "    loss = tf.reduce_mean(\n",
    "    tf.nn.softmax_cross_entropy_with_logits(labels=tf_train_labels, logits=logits))\n",
    "    \n",
    "  # Optimizer.\n",
    "    optimizer = tf.train.GradientDescentOptimizer(0.05).minimize(loss)\n",
    "  \n",
    "  # Predictions for the training, validation, and test data.\n",
    "    train_prediction = tf.nn.softmax(logits)\n",
    "    valid_prediction = tf.nn.softmax(model(tf_valid_dataset))\n",
    "    test_prediction = tf.nn.softmax(model(tf_test_dataset))"
   ]
  },
  {
   "cell_type": "markdown",
   "metadata": {},
   "source": [
    "## same padding \n",
    "最低限度填充\n",
    "\n",
    "new = 向上取整w/s"
   ]
  },
  {
   "cell_type": "code",
   "execution_count": 7,
   "metadata": {
    "cellView": "both",
    "colab": {
     "autoexec": {
      "startup": false,
      "wait_interval": 0
     },
     "output_extras": [
      {
       "item_id": 37
      }
     ]
    },
    "colab_type": "code",
    "executionInfo": {
     "elapsed": 63292,
     "status": "ok",
     "timestamp": 1446658966251,
     "user": {
      "color": "",
      "displayName": "",
      "isAnonymous": false,
      "isMe": true,
      "permissionId": "",
      "photoUrl": "",
      "sessionId": "0",
      "userId": ""
     },
     "user_tz": 480
    },
    "id": "noKFb2UovVFR",
    "outputId": "28941338-2ef9-4088-8bd1-44295661e628",
    "pycharm": {
     "is_executing": true
    }
   },
   "outputs": [
    {
     "name": "stdout",
     "output_type": "stream",
     "text": [
      "Initialized\n",
      "Minibatch loss at step 0: 2.909925\n",
      "Minibatch accuracy: 0.0%\n",
      "Validation accuracy: 9.2%\n",
      "Minibatch loss at step 50: 1.700878\n",
      "Minibatch accuracy: 31.2%\n",
      "Validation accuracy: 57.4%\n",
      "Minibatch loss at step 100: 1.300187\n",
      "Minibatch accuracy: 62.5%\n",
      "Validation accuracy: 71.8%\n",
      "Minibatch loss at step 150: 0.286697\n",
      "Minibatch accuracy: 100.0%\n",
      "Validation accuracy: 76.2%\n",
      "Minibatch loss at step 200: 0.809725\n",
      "Minibatch accuracy: 75.0%\n",
      "Validation accuracy: 76.9%\n",
      "Minibatch loss at step 250: 0.622038\n",
      "Minibatch accuracy: 81.2%\n",
      "Validation accuracy: 78.9%\n",
      "Minibatch loss at step 300: 0.486390\n",
      "Minibatch accuracy: 81.2%\n",
      "Validation accuracy: 79.0%\n",
      "Minibatch loss at step 350: 0.497803\n",
      "Minibatch accuracy: 87.5%\n",
      "Validation accuracy: 80.3%\n",
      "Minibatch loss at step 400: 0.943425\n",
      "Minibatch accuracy: 62.5%\n",
      "Validation accuracy: 78.7%\n",
      "Minibatch loss at step 450: 0.820247\n",
      "Minibatch accuracy: 87.5%\n",
      "Validation accuracy: 80.5%\n",
      "Minibatch loss at step 500: 0.592091\n",
      "Minibatch accuracy: 81.2%\n",
      "Validation accuracy: 80.2%\n",
      "Minibatch loss at step 550: 0.865980\n",
      "Minibatch accuracy: 75.0%\n",
      "Validation accuracy: 81.8%\n",
      "Minibatch loss at step 600: 0.360876\n",
      "Minibatch accuracy: 87.5%\n",
      "Validation accuracy: 81.2%\n",
      "Minibatch loss at step 650: 0.453771\n",
      "Minibatch accuracy: 81.2%\n",
      "Validation accuracy: 81.7%\n",
      "Minibatch loss at step 700: 0.715451\n",
      "Minibatch accuracy: 81.2%\n",
      "Validation accuracy: 82.1%\n",
      "Minibatch loss at step 750: 1.191110\n",
      "Minibatch accuracy: 75.0%\n",
      "Validation accuracy: 82.6%\n",
      "Minibatch loss at step 800: 0.415398\n",
      "Minibatch accuracy: 81.2%\n",
      "Validation accuracy: 82.9%\n",
      "Minibatch loss at step 850: 0.651016\n",
      "Minibatch accuracy: 81.2%\n",
      "Validation accuracy: 83.4%\n",
      "Minibatch loss at step 900: 1.267061\n",
      "Minibatch accuracy: 68.8%\n",
      "Validation accuracy: 83.4%\n",
      "Minibatch loss at step 950: 0.691421\n",
      "Minibatch accuracy: 68.8%\n",
      "Validation accuracy: 83.5%\n",
      "Minibatch loss at step 1000: 0.277373\n",
      "Minibatch accuracy: 93.8%\n",
      "Validation accuracy: 83.9%\n",
      "Test accuracy: 90.1%\n"
     ]
    }
   ],
   "source": [
    "\n",
    "num_steps = 1001\n",
    "\n",
    "with tf.Session(graph=graph) as session:\n",
    "    tf.global_variables_initializer().run()\n",
    "    print('Initialized')\n",
    "    for step in range(num_steps):\n",
    "        offset = (step * batch_size) % (train_labels.shape[0] - batch_size)\n",
    "        batch_data = train_dataset[offset:(offset + batch_size), :, :, :]\n",
    "        batch_labels = train_labels[offset:(offset + batch_size), :]\n",
    "        feed_dict = {tf_train_dataset : batch_data, tf_train_labels : batch_labels}\n",
    "        _, l, predictions = session.run(\n",
    "      [optimizer, loss, train_prediction], feed_dict=feed_dict)\n",
    "        if step % 50 == 0:\n",
    "            print('Minibatch loss at step %d: %f' % (step, l))\n",
    "            print('Minibatch accuracy: %.1f%%' % accuracy(predictions, batch_labels))\n",
    "            print('Validation accuracy: %.1f%%' % accuracy(\n",
    "                valid_prediction.eval(), valid_labels))\n",
    "    print('Test accuracy: %.1f%%' % accuracy(test_prediction.eval(), test_labels))\n"
   ]
  },
  {
   "cell_type": "markdown",
   "metadata": {
    "colab_type": "text",
    "id": "KedKkn4EutIK"
   },
   "source": [
    "---\n",
    "Problem 1\n",
    "---------\n",
    "\n",
    "The convolutional model above uses convolutions with stride 2 to reduce the dimensionality. Replace the strides by a max pooling operation (`nn.max_pool()`) of stride 2 and kernel size 2.\n",
    "\n",
    "---"
   ]
  },
  {
   "cell_type": "code",
   "execution_count": 39,
   "metadata": {
    "pycharm": {
     "is_executing": false
    }
   },
   "outputs": [],
   "source": [
    "class Model:\n",
    "    def __init__(self, graph=None):\n",
    "        if not graph:\n",
    "            self.graph = tf.Graph()\n",
    "        else:\n",
    "            self.graph = graph\n",
    "    \n",
    "    def build_graph(self, image_size, channel, num_labels, kernel_size, depth, flat_units): # keep_prob should in the train process \n",
    "        with self.graph.as_default():\n",
    "            initializer = tf.initializers.glorot_uniform()\n",
    "            \n",
    "            self.feature = tf.placeholder(tf.float32, shape=[None, image_size, image_size, channel])\n",
    "            self.labels = tf.placeholder(tf.float32, shape = [None, num_labels])\n",
    "            self.keep_prob = tf.placeholder(tf.float32, shape = ())\n",
    "            \n",
    "            filter1= tf.Variable(initializer(shape=[kernel_size,kernel_size, channel, depth]),name=\"f1\")\n",
    "            biases1 = tf.Variable(initializer(shape=[depth]),name = \"b1\")\n",
    "            layer1 = tf.nn.relu(tf.nn.conv2d(self.feature,filter1,[1,2,2,1],\"SAME\")+biases1)\n",
    "            dropout1 = tf.nn.dropout(layer1,rate = self.keep_prob)\n",
    "            \n",
    "            filter2 = tf.Variable(initializer(shape=[kernel_size,kernel_size,depth, depth]),name = \"f2\")\n",
    "            biases2 = tf.Variable(initializer(shape=[depth]),name=\"b2\")\n",
    "            layer2 = tf.nn.relu(tf.nn.conv2d(dropout1,filter2,strides=[1,2,2,1],padding=\"SAME\")+biases2)\n",
    "                        \n",
    "\n",
    "            dropout2 = tf.nn.dropout(layer2,rate= self.keep_prob)\n",
    "            \n",
    "            max_p = tf.nn.max_pool(dropout2,4,[1,2,2,1],padding=\"SAME\")\n",
    "            dropout3 = tf.nn.dropout(max_p,rate = self.keep_prob)\n",
    "            transformed_size = image_size // 8 +1\n",
    "            \n",
    "            drop_shape = dropout3.shape\n",
    "            reshaped = tf.reshape(dropout3, shape=[-1,drop_shape[1]*drop_shape[2]*drop_shape[3]])\n",
    "            weight3 = tf.Variable(initializer(shape =[transformed_size*transformed_size*depth, flat_units]),name=\"w3\")\n",
    "            biases3 = tf.Variable(initializer(shape=[flat_units]))\n",
    "            \n",
    "            fully_connected= tf.nn.relu(tf.matmul(reshaped,weight3)+biases3)\n",
    "            \n",
    "            weight4 = tf.Variable(initializer(shape = [flat_units, num_labels]),name=\"w4\")\n",
    "            biases4 = tf.Variable(initializer(shape = [num_labels]),name=\"b4\")\n",
    "            \n",
    "            output_logits = tf.matmul(fully_connected,weight4)+biases4\n",
    "            \n",
    "            \n",
    "            self.loss = tf.reduce_mean(\n",
    "                tf.nn.softmax_cross_entropy_with_logits(logits=output_logits,labels=self.labels)\n",
    "            )\n",
    "            self.optimizer = tf.train.AdadeltaOptimizer(0.1).minimize(self.loss)\n",
    "            \n",
    "            self.prediction = tf.nn.softmax(output_logits)\n",
    "            \n",
    "            self.accuracy = tf.metrics.accuracy(\n",
    "                tf.argmax(self.labels,axis=1),\n",
    "                tf.argmax(self.prediction,axis=1))\n",
    "        \n",
    "    def make_dataset(self, x, y , batch_size=50):\n",
    "        with self.graph.as_default():\n",
    "            origin_dict = (tf.constant(x),tf.constant(y))\n",
    "            dataset = tf.data.Dataset.from_tensors(origin_dict)\n",
    "            print(\"get_success\")\n",
    "            dataset = dataset.shuffle(buffer_size=100).batch(batch_size=batch_size).repeat()  # buffer_size 每次从多少个数据中抽样\n",
    "\n",
    "            dataset_iter = dataset.make_initializable_iterator()\n",
    "            next_iter = dataset_iter.get_next()\n",
    "            return dataset_iter,next_iter\n",
    "    \n",
    "    def make_batch(self,x, y,batch_size=50):\n",
    "        assert len(x) == len(y)\n",
    "        point = 0\n",
    "        while point<len(x):\n",
    "            if point+batch_size <len(y):\n",
    "                yield x[point:point+batch_size],y[point:point+batch_size]\n",
    "            else:\n",
    "                yield x[point:],y[point:]\n",
    "            point += batch_size\n",
    "            \n",
    "    def train(self,data_dict, epoch_num, dropout_rate=0.3):\n",
    "\n",
    "#         dd_iter,dev_iter = self.make_dataset(data_dict[\"dev_x\"],data_dict[\"dev_y\"])\n",
    "#         tes_iter,test_iter = self.make_dataset(data_dict[\"test_x\"],data_dict[\"test_y\"])\n",
    "        \n",
    "        with tf.Session(graph=self.graph) as sess:\n",
    "            tf.local_variables_initializer().run()\n",
    "            tf.global_variables_initializer().run()\n",
    "#             sess.run([td_iter.initializer,dd_iter.initializer,tes_iter.initializer])\n",
    "            for i in tqdm(range(epoch_num)):\n",
    "                for train_x, train_y in self.make_batch(data_dict[\"train_x\"],data_dict[\"train_y\"]):\n",
    "                    if train_x is not None:\n",
    "                        train_dict = {self.feature:train_x,\n",
    "                          self.labels:train_y,\n",
    "                          self.keep_prob:dropout_rate}\n",
    "                        _, loss = sess.run([self.optimizer,self.loss],\n",
    "                               feed_dict=train_dict)\n",
    "                print(\"loss on train %s \" %loss)\n",
    "                if i %5 ==0:\n",
    "                    dev_dict = {self.feature:data_dict[\"dev_x\"],\n",
    "                              self.labels:data_dict[\"dev_y\"],\n",
    "                              self.keep_prob:0}\n",
    "                    dev_accuracy = sess.run(self.accuracy,feed_dict=dev_dict)\n",
    "                    train_accuracy = sess.run(self.accuracy,feed_dict= train_dict)\n",
    "                    print(\"accuracy on train dataset %s\" %train_accuracy[1])\n",
    "                    print(\"accuracy on dev dataset %s\" %dev_accuracy[1])\n",
    "            test_dict = {self.feature:data_dict[\"test_x\"],\n",
    "                              self.labels:data_dict['test_y'],\n",
    "                              self.keep_prob:0}\n",
    "            test_accuracy,test_prediction = sess.run([self.accuracy,self.prediction], feed_dict=test_dict)\n",
    "            print(\"accuracy on test dataset %s\" %test_accuracy[1])\n",
    "            print(\"accuracy on test dataset another method %s\" %accuracy(test_prediction,data_dict[\"test_y\"]))\n",
    "            \n",
    "    \n",
    "    def evaluate(self, X, Y):\n",
    "        pass  "
   ]
  },
  {
   "cell_type": "code",
   "execution_count": 40,
   "metadata": {
    "pycharm": {
     "is_executing": true,
     "name": "#%%\n"
    }
   },
   "outputs": [
    {
     "name": "stdout",
     "output_type": "stream",
     "text": [
      "build graph successfully\n"
     ]
    },
    {
     "data": {
      "application/vnd.jupyter.widget-view+json": {
       "model_id": "9cfa190346ca490ba98763b37bb6d5bf",
       "version_major": 2,
       "version_minor": 0
      },
      "text/plain": [
       "HBox(children=(IntProgress(value=0, max=20), HTML(value='')))"
      ]
     },
     "metadata": {},
     "output_type": "display_data"
    },
    {
     "name": "stdout",
     "output_type": "stream",
     "text": [
      "loss on train 1.2102065 \n",
      "accuracy on train dataset 0.74845773\n",
      "accuracy on dev dataset 0.749\n",
      "loss on train 0.9263614 \n",
      "loss on train 0.8639719 \n",
      "loss on train 0.6576946 \n",
      "loss on train 0.6773569 \n",
      "loss on train 0.9147366 \n",
      "accuracy on train dataset 0.7984577\n",
      "accuracy on dev dataset 0.79850376\n",
      "loss on train 0.7471905 \n",
      "loss on train 0.6894289 \n",
      "loss on train 0.6331315 \n",
      "loss on train 0.5946794 \n",
      "loss on train 0.569268 \n",
      "accuracy on train dataset 0.8197015\n",
      "accuracy on dev dataset 0.8197342\n",
      "loss on train 0.5360697 \n",
      "loss on train 0.46748993 \n",
      "loss on train 0.5129256 \n",
      "loss on train 0.50084114 \n",
      "loss on train 0.5006099 \n",
      "accuracy on train dataset 0.83221394\n",
      "accuracy on dev dataset 0.8321544\n",
      "loss on train 0.35892925 \n",
      "loss on train 0.47431728 \n",
      "loss on train 0.44417244 \n",
      "loss on train 0.42213944 \n",
      "\n",
      "accuracy on test dataset 0.8523307\n",
      "accuracy on test dataset another method 93.32\n"
     ]
    }
   ],
   "source": [
    "new_model = Model()\n",
    "new_model.build_graph(image_size,num_channels,num_labels,patch_size,depth,num_hidden)\n",
    "print(\"build graph successfully\")\n",
    "data_dict = {\n",
    "    \"train_x\":train_dataset,\n",
    "    \"train_y\":train_labels,\n",
    "    \"dev_x\":valid_dataset,\n",
    "    \"dev_y\":valid_labels,\n",
    "    \"test_x\":test_dataset, \n",
    "    \"test_y\":test_labels\n",
    "}\n",
    "new_model.train(data_dict,20)"
   ]
  },
  {
   "cell_type": "code",
   "execution_count": 4,
   "metadata": {},
   "outputs": [
    {
     "name": "stdout",
     "output_type": "stream",
     "text": [
      "2.0.0\n"
     ]
    }
   ],
   "source": [
    "import tensorflow as tf2\n",
    "import numpy as np\n",
    "print(tf2.__version__)\n"
   ]
  },
  {
   "cell_type": "markdown",
   "metadata": {
    "colab_type": "text",
    "id": "klf21gpbAgb-"
   },
   "source": [
    "---\n",
    "Problem 2\n",
    "---------\n",
    "\n",
    "Try to get the best performance you can using a convolutional net. Look for example at the classic [LeNet5](http://yann.lecun.com/exdb/lenet/) architecture, adding Dropout, and/or adding learning rate decay.\n",
    "\n",
    "---"
   ]
  },
  {
   "cell_type": "code",
   "execution_count": 42,
   "metadata": {},
   "outputs": [],
   "source": [
    "def make_batch(x, y,batch_size=50):\n",
    "    assert len(x) == len(y)\n",
    "    point = 0\n",
    "    while point<len(x):\n",
    "        if point+batch_size <len(y):\n",
    "            yield x[point:point+batch_size],y[point:point+batch_size]\n",
    "        else:\n",
    "            yield x[point:],y[point:]\n",
    "        point += batch_size"
   ]
  },
  {
   "cell_type": "code",
   "execution_count": 43,
   "metadata": {},
   "outputs": [],
   "source": [
    "train_ds = tf2.data.Dataset.from_tensor_slices(\n",
    "    (train_dataset,train_labels)).shuffle(1000).batch(32)"
   ]
  },
  {
   "cell_type": "code",
   "execution_count": 96,
   "metadata": {},
   "outputs": [],
   "source": [
    "class MyModel(tf2.keras.models.Model):\n",
    "    def __init__(self):\n",
    "        super(MyModel, self).__init__()\n",
    "        self.conv1 = tf2.keras.layers.Conv2D(6,[5,5],(1,1),\"same\",activation=\"tanh\")\n",
    "        self.dropout1 = tf2.keras.layers.Dropout(0.3)\n",
    "        self.avgpool1 = tf2.keras.layers.AveragePooling2D((2,2),(2,2))\n",
    "        self.conv2 = tf2.keras.layers.Conv2D(16,[5,5],(1,1),\"valid\",activation=\"tanh\")\n",
    "        self.dropout2 = tf2.keras.layers.Dropout(0.3)\n",
    "        self.avgpool2 = tf2.keras.layers.AveragePooling2D((2,2),(2,2))\n",
    "        self.conv3 = tf2.keras.layers.Conv2D(120,[5,5],(1,1),\"valid\",activation=\"tanh\")\n",
    "        self.dropout3 =tf2.keras.layers.Dropout(0.3)\n",
    "        self.flatten = tf2.keras.layers.Flatten()\n",
    "        self.fullyconnected = tf2.keras.layers.Dense(84,activation=\"tanh\")\n",
    "        self.dropout4 =tf2.keras.layers.Dropout(0.3)\n",
    "        self.outputs = tf2.keras.layers.Dense(10,activation=\"softmax\")\n",
    "\n",
    "        \n",
    "        self.optimizer = tf2.keras.optimizers.Adadelta()\n",
    "        self.accuracy = tf2.keras.metrics.SparseCategoricalAccuracy()\n",
    "        self.loss = tf2.keras.losses.SparseCategoricalCrossentropy()\n",
    "\n",
    "    @tf2.function \n",
    "    def call(self,x):\n",
    "        x = self.conv1(x)\n",
    "        x =self.dropout1(x)\n",
    "        x = self.avgpool1(x)\n",
    "        x = self.conv2(x)\n",
    "        x = self.dropout2(x)\n",
    "        x = self.avgpool2(x)\n",
    "        x = self.conv3(x)\n",
    "        x = self.dropout3(x)\n",
    "        x = self.flatten(x)\n",
    "        x = self.fullyconnected(x)\n",
    "        x =self.dropout4(x)\n",
    "        return self.outputs(x)\n",
    "    \n",
    "#     @tf2.function\n",
    "#     def update_parameters(self,loss,tape):\n",
    "#         gradients = tape.gradient(loss, self.trainable_variables)\n",
    "#         self.optimizer.apply_gradients(zip(gradients,self.trainable_variables))\n",
    "\n",
    "    def train_step(self, x, y):    \n",
    "        with tf.GradientTape() as tape:\n",
    "            y_hat = self(x)\n",
    "            loss = self.loss(tf2.argmax(y,axis=1), y_hat)\n",
    "#         self.update_parameters(loss,tape)\n",
    "            gradients = tape.gradient(loss, self.trainable_variables)\n",
    "    \n",
    "            self.optimizer.apply_gradients(zip(gradients,self.trainable_variables))\n",
    "        \n",
    "        return loss\n",
    "    \n",
    "    def make_dataset(self, x, y , batch_size=32):\n",
    "        return tf2.data.Dataset.from_tensor_slices(\n",
    "            (x,y)\n",
    "        ).shuffle(x.shape[0]//2).batch(batch_size)\n",
    "     \n",
    "        \n",
    "    def evaluate(self,x,y):\n",
    "        return self.accuracy(tf2.argmax(y,axis=1),self(x))\n",
    "    \n",
    "    \n",
    "    def train(self,data_dict, epoch_num):\n",
    "        \n",
    "        self.train_loss = tf2.metrics.Mean()\n",
    "        self.train_acc = tf2.metrics.Mean()\n",
    "        \n",
    "        test_x, test_y = data_dict[\"test_x\"],data_dict[\"test_y\"]\n",
    "        dev_x, dev_y = data_dict[\"dev_x\"],data_dict['dev_y']\n",
    "        train_x,train_y = data_dict[\"train_x\"], data_dict[\"train_y\"]\n",
    "        train_data = self.make_dataset(train_x,train_y)\n",
    "        for epoch in tqdm(range(epoch_num)):\n",
    "            for x_batch,y_batch in train_data:\n",
    "                batch_loss = self.train_step(x_batch,y_batch)\n",
    "                self.train_loss(batch_loss)\n",
    "#                 self.train_acc(batch_acc)\n",
    "            if epoch % 1 == 0:\n",
    "                print(\"train_loss %s\" %self.train_loss.result())\n",
    "#                 print(\"train_acc %s\" %self.train_acc.result())\n",
    "            if epoch % 5 == 0:\n",
    "                print(\"dev_acc %s\" %self.evaluate(dev_x,dev_y))\n",
    "            self.train_loss.reset_states()\n",
    "            self.train_acc.reset_states()\n",
    "        print(\"test_acc %s\" %self.evaluate(test_x,test_y))\n",
    "        \n",
    "                      \n",
    "                \n",
    "                "
   ]
  },
  {
   "cell_type": "code",
   "execution_count": 97,
   "metadata": {},
   "outputs": [
    {
     "data": {
      "application/vnd.jupyter.widget-view+json": {
       "model_id": "a83d1a431bf54970b1c7c5e77ca1aec3",
       "version_major": 2,
       "version_minor": 0
      },
      "text/plain": [
       "HBox(children=(IntProgress(value=0, max=10), HTML(value='')))"
      ]
     },
     "metadata": {},
     "output_type": "display_data"
    },
    {
     "name": "stdout",
     "output_type": "stream",
     "text": [
      "train_loss tf.Tensor(1.9568226, shape=(), dtype=float32)\n",
      "dev_acc tf.Tensor(0.6344, shape=(), dtype=float32)\n",
      "train_loss tf.Tensor(1.3328735, shape=(), dtype=float32)\n",
      "train_loss tf.Tensor(1.0834665, shape=(), dtype=float32)\n",
      "train_loss tf.Tensor(0.9727717, shape=(), dtype=float32)\n",
      "train_loss tf.Tensor(0.91095674, shape=(), dtype=float32)\n",
      "train_loss tf.Tensor(0.8711842, shape=(), dtype=float32)\n",
      "dev_acc tf.Tensor(0.71075, shape=(), dtype=float32)\n",
      "train_loss tf.Tensor(0.84279865, shape=(), dtype=float32)\n",
      "train_loss tf.Tensor(0.8210653, shape=(), dtype=float32)\n",
      "train_loss tf.Tensor(0.80361915, shape=(), dtype=float32)\n",
      "train_loss tf.Tensor(0.78911966, shape=(), dtype=float32)\n",
      "\n",
      "test_acc tf.Tensor(0.7636667, shape=(), dtype=float32)\n"
     ]
    }
   ],
   "source": [
    "my_model = MyModel()\n",
    "data_dict = {\n",
    "    \"train_x\":train_dataset,\n",
    "    \"train_y\":train_labels,\n",
    "    \"dev_x\":valid_dataset,\n",
    "    \"dev_y\":valid_labels,\n",
    "    \"test_x\":test_dataset, \n",
    "    \"test_y\":test_labels\n",
    "}\n",
    "\n",
    "# my_model.evaluate(data_dict[\"dev_x\"],data_dict[\"dev_y\"])\n",
    "my_model.train(data_dict,10)\n"
   ]
  },
  {
   "cell_type": "code",
   "execution_count": null,
   "metadata": {},
   "outputs": [],
   "source": []
  }
 ],
 "metadata": {
  "colab": {
   "default_view": {},
   "name": "4_convolutions.ipynb",
   "provenance": [],
   "toc_visible": true,
   "version": "0.3.2",
   "views": {}
  },
  "kernelspec": {
   "display_name": "Python 3",
   "language": "python",
   "name": "python3"
  },
  "language_info": {
   "codemirror_mode": {
    "name": "ipython",
    "version": 3
   },
   "file_extension": ".py",
   "mimetype": "text/x-python",
   "name": "python",
   "nbconvert_exporter": "python",
   "pygments_lexer": "ipython3",
   "version": "3.7.4"
  },
  "pycharm": {
   "stem_cell": {
    "cell_type": "raw",
    "metadata": {
     "collapsed": false
    },
    "source": []
   }
  }
 },
 "nbformat": 4,
 "nbformat_minor": 1
}
