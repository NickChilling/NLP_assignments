{
 "cells": [
  {
   "cell_type": "code",
   "execution_count": 1,
   "metadata": {},
   "outputs": [],
   "source": [
    "coordination_source = \"\"\"\n",
    "{name:'兰州', geoCoord:[103.73, 36.03]},\n",
    "{name:'嘉峪关', geoCoord:[98.17, 39.47]},\n",
    "{name:'西宁', geoCoord:[101.74, 36.56]},\n",
    "{name:'成都', geoCoord:[104.06, 30.67]},\n",
    "{name:'石家庄', geoCoord:[114.48, 38.03]},\n",
    "{name:'拉萨', geoCoord:[102.73, 25.04]},\n",
    "{name:'贵阳', geoCoord:[106.71, 26.57]},\n",
    "{name:'武汉', geoCoord:[114.31, 30.52]},\n",
    "{name:'郑州', geoCoord:[113.65, 34.76]},\n",
    "{name:'济南', geoCoord:[117, 36.65]},\n",
    "{name:'南京', geoCoord:[118.78, 32.04]},\n",
    "{name:'合肥', geoCoord:[117.27, 31.86]},\n",
    "{name:'杭州', geoCoord:[120.19, 30.26]},\n",
    "{name:'南昌', geoCoord:[115.89, 28.68]},\n",
    "{name:'福州', geoCoord:[119.3, 26.08]},\n",
    "{name:'广州', geoCoord:[113.23, 23.16]},\n",
    "{name:'长沙', geoCoord:[113, 28.21]},\n",
    "//{name:'海口', geoCoord:[110.35, 20.02]},\n",
    "{name:'沈阳', geoCoord:[123.38, 41.8]},\n",
    "{name:'长春', geoCoord:[125.35, 43.88]},\n",
    "{name:'哈尔滨', geoCoord:[126.63, 45.75]},\n",
    "{name:'太原', geoCoord:[112.53, 37.87]},\n",
    "{name:'西安', geoCoord:[108.95, 34.27]},\n",
    "//{name:'台湾', geoCoord:[121.30, 25.03]},\n",
    "{name:'北京', geoCoord:[116.46, 39.92]},\n",
    "{name:'上海', geoCoord:[121.48, 31.22]},\n",
    "{name:'重庆', geoCoord:[106.54, 29.59]},\n",
    "{name:'天津', geoCoord:[117.2, 39.13]},\n",
    "{name:'呼和浩特', geoCoord:[111.65, 40.82]},\n",
    "{name:'南宁', geoCoord:[108.33, 22.84]},\n",
    "//{name:'西藏', geoCoord:[91.11, 29.97]},\n",
    "{name:'银川', geoCoord:[106.27, 38.47]},\n",
    "{name:'乌鲁木齐', geoCoord:[87.68, 43.77]},\n",
    "{name:'香港', geoCoord:[114.17, 22.28]},\n",
    "{name:'澳门', geoCoord:[113.54, 22.19]}\n",
    "\"\"\""
   ]
  },
  {
   "cell_type": "code",
   "execution_count": 2,
   "metadata": {
    "scrolled": true
   },
   "outputs": [
    {
     "name": "stdout",
     "output_type": "stream",
     "text": [
      "[('兰州', '103.73', '36.03')]\n",
      "[('嘉峪关', '98.17', '39.47')]\n",
      "[('西宁', '101.74', '36.56')]\n",
      "[('成都', '104.06', '30.67')]\n",
      "[('石家庄', '114.48', '38.03')]\n",
      "[('拉萨', '102.73', '25.04')]\n",
      "[('贵阳', '106.71', '26.57')]\n",
      "[('武汉', '114.31', '30.52')]\n",
      "[('郑州', '113.65', '34.76')]\n",
      "[('济南', '117', '36.65')]\n",
      "[('南京', '118.78', '32.04')]\n",
      "[('合肥', '117.27', '31.86')]\n",
      "[('杭州', '120.19', '30.26')]\n",
      "[('南昌', '115.89', '28.68')]\n",
      "[('福州', '119.3', '26.08')]\n",
      "[('广州', '113.23', '23.16')]\n",
      "[('长沙', '113', '28.21')]\n",
      "[('海口', '110.35', '20.02')]\n",
      "[('沈阳', '123.38', '41.8')]\n",
      "[('长春', '125.35', '43.88')]\n",
      "[('哈尔滨', '126.63', '45.75')]\n",
      "[('太原', '112.53', '37.87')]\n",
      "[('西安', '108.95', '34.27')]\n",
      "[('台湾', '121.30', '25.03')]\n",
      "[('北京', '116.46', '39.92')]\n",
      "[('上海', '121.48', '31.22')]\n",
      "[('重庆', '106.54', '29.59')]\n",
      "[('天津', '117.2', '39.13')]\n",
      "[('呼和浩特', '111.65', '40.82')]\n",
      "[('南宁', '108.33', '22.84')]\n",
      "[('西藏', '91.11', '29.97')]\n",
      "[('银川', '106.27', '38.47')]\n",
      "[('乌鲁木齐', '87.68', '43.77')]\n",
      "[('香港', '114.17', '22.28')]\n",
      "[('澳门', '113.54', '22.19')]\n"
     ]
    }
   ],
   "source": [
    "import re \n",
    "city_location = dict()\n",
    "pattern = re.compile(r\"name:'(\\w+)', geoCoord:\\[(\\d+.\\d+),\\s(\\d+.\\d+)\\]\")\n",
    "for line in coordination_source.split('\\n'):\n",
    "    city_info = pattern.findall(line)\n",
    "    if not city_info: continue\n",
    "    print(city_info)\n",
    "    city,long,lat = city_info[0]\n",
    "    long,lat = float(long),float(lat)\n",
    "    city_location[city] = (long,lat)"
   ]
  },
  {
   "cell_type": "code",
   "execution_count": 3,
   "metadata": {},
   "outputs": [
    {
     "data": {
      "text/plain": [
       "153.5185697155768"
      ]
     },
     "execution_count": 3,
     "metadata": {},
     "output_type": "execute_result"
    }
   ],
   "source": [
    "import math\n",
    "def geo_distance(origin, destination):\n",
    "    \"\"\"\n",
    "    Calculate the Haversine distance.\n",
    "\n",
    "    Parameters\n",
    "    ----------\n",
    "    origin : tuple of float\n",
    "        (lat, long)\n",
    "    destination : tuple of float\n",
    "        (lat, long)\n",
    "\n",
    "    Returns\n",
    "    -------\n",
    "    distance_in_km : float\n",
    "\n",
    "    Examples\n",
    "    --------\n",
    "    >>> origin = (48.1372, 11.5756)  # Munich\n",
    "    >>> destination = (52.5186, 13.4083)  # Berlin\n",
    "    >>> round(distance(origin, destination), 1)\n",
    "    504.2\n",
    "    \"\"\"\n",
    "    lat1, lon1 = origin\n",
    "    lat2, lon2 = destination\n",
    "    radius = 6371  # km\n",
    "\n",
    "    dlat = math.radians(lat2 - lat1)\n",
    "    dlon = math.radians(lon2 - lon1)\n",
    "    a = (math.sin(dlat / 2) * math.sin(dlat / 2) +\n",
    "         math.cos(math.radians(lat1)) * math.cos(math.radians(lat2)) *\n",
    "         math.sin(dlon / 2) * math.sin(dlon / 2))\n",
    "    c = 2 * math.atan2(math.sqrt(a), math.sqrt(1 - a))\n",
    "    d = radius * c\n",
    "\n",
    "    return d\n",
    "\n",
    "def get_geo_distance(city1,city2):\n",
    "    return geo_distance(city_location[city1],city_location[city2])\n",
    "get_geo_distance('上海','杭州')"
   ]
  },
  {
   "cell_type": "code",
   "execution_count": 4,
   "metadata": {},
   "outputs": [],
   "source": [
    "import networkx as nx\n",
    "city_graph = nx.Graph()\n",
    "city_graph.add_nodes_from(list(city_location.keys()))\n",
    "%matplotlib inline"
   ]
  },
  {
   "cell_type": "code",
   "execution_count": 5,
   "metadata": {},
   "outputs": [
    {
     "name": "stdout",
     "output_type": "stream",
     "text": [
      "['/home/chihao/miniconda3/lib/python3.7/site-packages/matplotlib']\n"
     ]
    }
   ],
   "source": [
    "import matplotlib\n",
    "print(matplotlib.__path__)"
   ]
  },
  {
   "cell_type": "code",
   "execution_count": 10,
   "metadata": {
    "scrolled": true
   },
   "outputs": [
    {
     "name": "stderr",
     "output_type": "stream",
     "text": [
      "/home/chihao/miniconda3/lib/python3.7/site-packages/networkx/drawing/nx_pylab.py:579: MatplotlibDeprecationWarning: \n",
      "The iterable function was deprecated in Matplotlib 3.1 and will be removed in 3.3. Use np.iterable instead.\n",
      "  if not cb.iterable(width):\n"
     ]
    },
    {
     "data": {
      "image/png": "[encoded data removed]",
      "text/plain": [
       "<Figure size 432x288 with 1 Axes>"
      ]
     },
     "metadata": {},
     "output_type": "display_data"
    }
   ],
   "source": [
    "import matplotlib.pyplot as plt\n",
    "from collections import defaultdict\n",
    "nx.draw(city_graph,city_location,with_labels=True,node_size=30)\n",
    "threshold = 300\n",
    "city_connection = defaultdict(list)\n",
    "for c1 in city_location:\n",
    "    for c2 in city_location:\n",
    "        if c1 == c2 :\n",
    "            continue\n",
    "        else:\n",
    "            distance = get_geo_distance(c1,c2)\n",
    "            if distance <threshold:\n",
    "                city_connection[c1].append(c2)\n",
    "                city_connection[c2].append(c1)\n",
    "city_with_road = nx.Graph(city_connection)\n",
    "nx.draw(city_with_road,city_location,with_labels=True,node_size=30)"
   ]
  },
  {
   "cell_type": "code",
   "execution_count": 16,
   "metadata": {},
   "outputs": [
    {
     "name": "stdout",
     "output_type": "stream",
     "text": [
      "北京\n",
      "石家庄\n",
      "济南\n",
      "天津\n",
      "郑州\n",
      "太原\n",
      "北京\n",
      "合肥\n",
      "武汉\n",
      "长沙\n",
      "呼和浩特\n",
      "南京\n",
      "南昌\n",
      "广州\n",
      "香港\n",
      "澳门\n",
      "杭州\n",
      "福州\n",
      "上海\n",
      "台湾\n"
     ]
    },
    {
     "data": {
      "text/plain": [
       "['石家庄',\n",
       " '济南',\n",
       " '天津',\n",
       " '郑州',\n",
       " '太原',\n",
       " '北京',\n",
       " '合肥',\n",
       " '武汉',\n",
       " '长沙',\n",
       " '呼和浩特',\n",
       " '南京',\n",
       " '南昌',\n",
       " '广州',\n",
       " '香港',\n",
       " '澳门',\n",
       " '杭州',\n",
       " '福州',\n",
       " '上海',\n",
       " '台湾']"
      ]
     },
     "execution_count": 16,
     "metadata": {},
     "output_type": "execute_result"
    }
   ],
   "source": [
    "def bfs(graph,start):\n",
    "    visited = set()\n",
    "    queue = [start]\n",
    "    result = []\n",
    "    while queue:\n",
    "        city = queue.pop(0)\n",
    "        for connect in graph[city]:\n",
    "            if connect in visited:\n",
    "                continue\n",
    "            else:\n",
    "                queue.append(connect)\n",
    "                result.append(connect)\n",
    "                visited.add(connect)\n",
    "    return result\n"
   ]
  },
  {
   "cell_type": "code",
   "execution_count": null,
   "metadata": {},
   "outputs": [],
   "source": [
    "def search(start,destination,connection_graph,sort_candidate):\n",
    "    pathes = [[start]]\n",
    "    visited = set()\n",
    "    while pathes:\n",
    "        path = pathes.pop(0)\n",
    "        frontier= path[-1]\n",
    "        if frontier in visited: continue\n",
    "        \n",
    "        successors = connection_graph[frontier]\n",
    "        for city in successors:\n",
    "            if city in path : continue\n",
    "            new_path = path +[city]\n",
    "            pathes.append(new_path)\n",
    "            i\n",
    "            "
   ]
  }
 ],
 "metadata": {
  "kernelspec": {
   "display_name": "Python 3",
   "language": "python",
   "name": "python3"
  },
  "language_info": {
   "codemirror_mode": {
    "name": "ipython",
    "version": 3
   },
   "file_extension": ".py",
   "mimetype": "text/x-python",
   "name": "python",
   "nbconvert_exporter": "python",
   "pygments_lexer": "ipython3",
   "version": "3.7.3"
  }
 },
 "nbformat": 4,
 "nbformat_minor": 2
}
